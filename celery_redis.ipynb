{
 "cells": [
  {
   "cell_type": "code",
   "execution_count": 1,
   "metadata": {},
   "outputs": [],
   "source": [
    "import redis\n",
    "r = redis.StrictRedis(host='localhost', port=6379, db=0)"
   ]
  },
  {
   "cell_type": "code",
   "execution_count": 2,
   "metadata": {},
   "outputs": [
    {
     "data": {
      "text/plain": [
       "1"
      ]
     },
     "execution_count": 2,
     "metadata": {},
     "output_type": "execute_result"
    }
   ],
   "source": [
    "r.llen('celery')  # celery's default queue is called \"celery\""
   ]
  },
  {
   "cell_type": "code",
   "execution_count": 3,
   "metadata": {},
   "outputs": [
    {
     "data": {
      "text/plain": [
       "[b'{\"body\": \"W1sxMjMsIDQ1Nl0sIHt9LCB7ImNhbGxiYWNrcyI6IG51bGwsICJlcnJiYWNrcyI6IG51bGwsICJjaGFpbiI6IG51bGwsICJjaG9yZCI6IG51bGx9XQ==\", \"content-encoding\": \"utf-8\", \"content-type\": \"application/json\", \"headers\": {\"lang\": \"py\", \"task\": \"tasks.add\", \"id\": \"afa05f29-4b4b-4625-9a23-c5f20f0177b5\", \"shadow\": null, \"eta\": null, \"expires\": null, \"group\": null, \"retries\": 0, \"timelimit\": [null, null], \"root_id\": \"afa05f29-4b4b-4625-9a23-c5f20f0177b5\", \"parent_id\": null, \"argsrepr\": \"(123, 456)\", \"kwargsrepr\": \"{}\", \"origin\": \"gen41217@ocavue-MacBook-Pro.local\"}, \"properties\": {\"correlation_id\": \"afa05f29-4b4b-4625-9a23-c5f20f0177b5\", \"reply_to\": \"fc4e8873-5cfe-3e39-a8d3-7d0b93a0e84a\", \"delivery_mode\": 2, \"delivery_info\": {\"exchange\": \"\", \"routing_key\": \"celery\"}, \"priority\": 0, \"body_encoding\": \"base64\", \"delivery_tag\": \"6ef76b7d-4226-4d30-89f2-c8432bda18ad\"}}']"
      ]
     },
     "execution_count": 3,
     "metadata": {},
     "output_type": "execute_result"
    }
   ],
   "source": [
    "tasks = r.lrange('celery', 0, -1)  # get all items in this queue and then requeue those items\n",
    "tasks"
   ]
  },
  {
   "cell_type": "code",
   "execution_count": 4,
   "metadata": {},
   "outputs": [
    {
     "name": "stdout",
     "output_type": "stream",
     "text": [
      "{\n",
      "    \"body\": \"W1sxMjMsIDQ1Nl0sIHt9LCB7ImNhbGxiYWNrcyI6IG51bGwsICJlcnJiYWNrcyI6IG51bGwsICJjaGFpbiI6IG51bGwsICJjaG9yZCI6IG51bGx9XQ==\",\n",
      "    \"content-encoding\": \"utf-8\",\n",
      "    \"content-type\": \"application/json\",\n",
      "    \"headers\": {\n",
      "        \"lang\": \"py\",\n",
      "        \"task\": \"tasks.add\",\n",
      "        \"id\": \"afa05f29-4b4b-4625-9a23-c5f20f0177b5\",\n",
      "        \"shadow\": null,\n",
      "        \"eta\": null,\n",
      "        \"expires\": null,\n",
      "        \"group\": null,\n",
      "        \"retries\": 0,\n",
      "        \"timelimit\": [\n",
      "            null,\n",
      "            null\n",
      "        ],\n",
      "        \"root_id\": \"afa05f29-4b4b-4625-9a23-c5f20f0177b5\",\n",
      "        \"parent_id\": null,\n",
      "        \"argsrepr\": \"(123, 456)\",\n",
      "        \"kwargsrepr\": \"{}\",\n",
      "        \"origin\": \"gen41217@ocavue-MacBook-Pro.local\"\n",
      "    },\n",
      "    \"properties\": {\n",
      "        \"correlation_id\": \"afa05f29-4b4b-4625-9a23-c5f20f0177b5\",\n",
      "        \"reply_to\": \"fc4e8873-5cfe-3e39-a8d3-7d0b93a0e84a\",\n",
      "        \"delivery_mode\": 2,\n",
      "        \"delivery_info\": {\n",
      "            \"exchange\": \"\",\n",
      "            \"routing_key\": \"celery\"\n",
      "        },\n",
      "        \"priority\": 0,\n",
      "        \"body_encoding\": \"base64\",\n",
      "        \"delivery_tag\": \"6ef76b7d-4226-4d30-89f2-c8432bda18ad\"\n",
      "    }\n",
      "}\n"
     ]
    }
   ],
   "source": [
    "import json\n",
    "loaded_task = json.loads(tasks[-1].decode())\n",
    "print(json.dumps(loaded_task, indent=4))  # just for pretty"
   ]
  },
  {
   "cell_type": "code",
   "execution_count": 5,
   "metadata": {},
   "outputs": [
    {
     "data": {
      "text/plain": [
       "b'W1sxMjMsIDQ1Nl0sIHt9LCB7ImNhbGxiYWNrcyI6IG51bGwsICJlcnJiYWNrcyI6IG51bGwsICJjaGFpbiI6IG51bGwsICJjaG9yZCI6IG51bGx9XQ=='"
      ]
     },
     "execution_count": 5,
     "metadata": {},
     "output_type": "execute_result"
    }
   ],
   "source": [
    "body = loaded_task['body'].encode()\n",
    "body"
   ]
  },
  {
   "cell_type": "code",
   "execution_count": 6,
   "metadata": {},
   "outputs": [
    {
     "data": {
      "text/plain": [
       "b'[[123, 456], {}, {\"callbacks\": null, \"errbacks\": null, \"chain\": null, \"chord\": null}]'"
      ]
     },
     "execution_count": 6,
     "metadata": {},
     "output_type": "execute_result"
    }
   ],
   "source": [
    "import base64\n",
    "decoded_body = base64.b64decode(body)\n",
    "decoded_body"
   ]
  },
  {
   "cell_type": "code",
   "execution_count": 7,
   "metadata": {},
   "outputs": [
    {
     "name": "stdout",
     "output_type": "stream",
     "text": [
      "[\n",
      "    [\n",
      "        123,\n",
      "        456\n",
      "    ],\n",
      "    {},\n",
      "    {\n",
      "        \"callbacks\": null,\n",
      "        \"errbacks\": null,\n",
      "        \"chain\": null,\n",
      "        \"chord\": null\n",
      "    }\n",
      "]\n"
     ]
    }
   ],
   "source": [
    "loads_body = json.loads(decoded_body)\n",
    "print(json.dumps(loads_body, indent=4))  # just for pretty"
   ]
  },
  {
   "cell_type": "code",
   "execution_count": null,
   "metadata": {},
   "outputs": [],
   "source": []
  }
 ],
 "metadata": {
  "kernelspec": {
   "display_name": "Python 3",
   "language": "python",
   "name": "python3"
  },
  "language_info": {
   "codemirror_mode": {
    "name": "ipython",
    "version": 3
   },
   "file_extension": ".py",
   "mimetype": "text/x-python",
   "name": "python",
   "nbconvert_exporter": "python",
   "pygments_lexer": "ipython3",
   "version": "3.6.5"
  }
 },
 "nbformat": 4,
 "nbformat_minor": 2
}
