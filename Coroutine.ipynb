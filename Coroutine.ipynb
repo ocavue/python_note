{
 "cells": [
  {
   "cell_type": "markdown",
   "metadata": {},
   "source": [
    "## Coroutine"
   ]
  },
  {
   "cell_type": "code",
   "execution_count": 1,
   "metadata": {},
   "outputs": [
    {
     "name": "stdout",
     "output_type": "stream",
     "text": [
      "[PRODUCER] Producing 1\n",
      "                                        [CONSUMER] Consuming 1\n",
      "[PRODUCER] Consumer return: 200 OK\n",
      "[PRODUCER] Producing 2\n",
      "                                        [CONSUMER] Consuming 2\n",
      "[PRODUCER] Consumer return: 200 OK\n",
      "[PRODUCER] Producing 3\n",
      "                                        [CONSUMER] Consuming 3\n",
      "[PRODUCER] Consumer return: 200 OK\n",
      "[PRODUCER] Producing 4\n",
      "                                        [CONSUMER] Consuming 4\n",
      "[PRODUCER] Consumer return: 200 OK\n",
      "[PRODUCER] Producing 5\n",
      "                                        [CONSUMER] Consuming 5\n",
      "[PRODUCER] Consumer return: 200 OK\n"
     ]
    }
   ],
   "source": [
    "def consumer():\n",
    "    r = ''\n",
    "    while True:\n",
    "        n = yield r\n",
    "        if not n:\n",
    "            return\n",
    "        print(' '*40 + f'[CONSUMER] Consuming {n}')\n",
    "        r = '200 OK'\n",
    "\n",
    "def produce(c):\n",
    "    c.send(None)\n",
    "    n = 0\n",
    "    while n < 5:\n",
    "        n = n + 1\n",
    "        print(f'[PRODUCER] Producing {n}')\n",
    "        r = c.send(n)\n",
    "        print(f'[PRODUCER] Consumer return: {r}')\n",
    "    c.close()\n",
    "\n",
    "c = consumer()\n",
    "produce(c)"
   ]
  },
  {
   "cell_type": "markdown",
   "metadata": {},
   "source": [
    "注意到`consumer`函数是一个`generator`，把一个`consumer`传入`produce`后：\n",
    "\n",
    "1. 首先调用`c.send(None)`启动生成器；\n",
    "2. 然后，一旦生产了东西，通过`c.send(n)`切换到`consumer`执行；\n",
    "3. `consumer`通过`yield`拿到消息，处理，又通过`yield`把结果传回；\n",
    "4. `produce`拿到`consumer`处理的结果，继续生产下一条消息；\n",
    "5. `produce`决定不生产了，通过`c.close()`关闭`consumer`，整个过程结束。\n",
    "\n",
    "整个流程无锁，由一个线程执行，`produce`和`consumer`协作完成任务，所以称为“协程”，而非线程的抢占式多任务。\n",
    "\n",
    "最后套用Donald Knuth的一句话总结协程的特点：\n",
    "\n",
    "“子程序就是协程的一种特例。”"
   ]
  },
  {
   "cell_type": "code",
   "execution_count": 2,
   "metadata": {},
   "outputs": [
    {
     "name": "stdout",
     "output_type": "stream",
     "text": [
      "Hello world!\n",
      "Hello again!\n"
     ]
    }
   ],
   "source": [
    "import asyncio\n",
    "\n",
    "@asyncio.coroutine\n",
    "def hello():\n",
    "    print(\"Hello world!\")\n",
    "    # 异步调用asyncio.sleep(1):\n",
    "    r = yield from asyncio.sleep(1)\n",
    "    print(\"Hello again!\")\n",
    "\n",
    "# 获取EventLoop:\n",
    "loop = asyncio.new_event_loop()\n",
    "# 执行coroutine\n",
    "loop.run_until_complete(hello())\n",
    "loop.close()"
   ]
  },
  {
   "cell_type": "markdown",
   "metadata": {},
   "source": [
    "自从 python 3.5 开始，python 提供了一些语法糖\n",
    "```\n",
    "async = @asyncio.coroutine\n",
    "await = yield from\n",
    "```"
   ]
  },
  {
   "cell_type": "code",
   "execution_count": 3,
   "metadata": {},
   "outputs": [
    {
     "name": "stdout",
     "output_type": "stream",
     "text": [
      "Hello world!\n",
      "Hello again!\n"
     ]
    }
   ],
   "source": [
    "async def hello():\n",
    "    print(\"Hello world!\")\n",
    "    # 异步调用asyncio.sleep(1):\n",
    "    r = await asyncio.sleep(1)\n",
    "    print(\"Hello again!\")\n",
    "\n",
    "    \n",
    "loop = asyncio.new_event_loop()\n",
    "loop.run_until_complete(hello())\n",
    "loop.close()"
   ]
  },
  {
   "cell_type": "code",
   "execution_count": 4,
   "metadata": {},
   "outputs": [],
   "source": [
    "# import time\n",
    "# async def consumer(n):\n",
    "#     print(' '*40 + f'[CONSUMER] Consuming {n}')\n",
    "#     await asyncio.sleep(1)\n",
    "#     print(' '*40 + f'[CONSUMER] Consumed {n}')\n",
    "#     return '200 OK'\n",
    "\n",
    "\n",
    "# async def produce():\n",
    "#     n = 0\n",
    "#     while n < 5:\n",
    "#         n += 1\n",
    "#         print(f'[PRODUCER] Producing {n}')\n",
    "#         r = await consumer(n)\n",
    "#         print(f'[PRODUCER] Consumer return: {r}')\n",
    "\n",
    "\n",
    "# loop = asyncio.new_event_loop()\n",
    "# loop.run_until_complete(produce())\n",
    "# loop.close()"
   ]
  },
  {
   "cell_type": "code",
   "execution_count": 5,
   "metadata": {},
   "outputs": [
    {
     "name": "stdout",
     "output_type": "stream",
     "text": [
      "spinner object: <Task pending coro=<spin() running at <ipython-input-5-3ecfe550c7f2>:1>>\n",
      "spin thinging\n",
      "spin thinging\n",
      "spin thinging\n",
      "spin thinging\n",
      "spin thinging\n",
      "result: 42\n"
     ]
    }
   ],
   "source": [
    "async def spin(msg):\n",
    "    while True:\n",
    "        await asyncio.sleep(0.5)\n",
    "        print(f'spin {msg}')\n",
    "    \n",
    "    \n",
    "async def slow_function():\n",
    "    await asyncio.sleep(3)\n",
    "    return 42\n",
    "\n",
    "async def supervisor():\n",
    "    spinner = asyncio.ensure_future(spin('thinging'))\n",
    "    \n",
    "    print('spinner object:', spinner)\n",
    "    result = await slow_function()\n",
    "    spinner.cancel\n",
    "    return result \n",
    "\n",
    "def main():\n",
    "    loop = asyncio.new_event_loop()\n",
    "    result = loop.run_until_complete(supervisor())\n",
    "    loop.close()\n",
    "    print('result:',result)\n",
    "\n",
    "main()"
   ]
  },
  {
   "cell_type": "code",
   "execution_count": null,
   "metadata": {},
   "outputs": [],
   "source": []
  },
  {
   "cell_type": "code",
   "execution_count": null,
   "metadata": {},
   "outputs": [],
   "source": []
  },
  {
   "cell_type": "code",
   "execution_count": null,
   "metadata": {},
   "outputs": [],
   "source": []
  }
 ],
 "metadata": {
  "kernelspec": {
   "display_name": "Python 3",
   "language": "python",
   "name": "python3"
  },
  "language_info": {
   "codemirror_mode": {
    "name": "ipython",
    "version": 3
   },
   "file_extension": ".py",
   "mimetype": "text/x-python",
   "name": "python",
   "nbconvert_exporter": "python",
   "pygments_lexer": "ipython3",
   "version": "3.6.4"
  }
 },
 "nbformat": 4,
 "nbformat_minor": 2
}
