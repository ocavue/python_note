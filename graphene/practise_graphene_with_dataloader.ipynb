{
 "cells": [
  {
   "cell_type": "code",
   "execution_count": 1,
   "metadata": {},
   "outputs": [
    {
     "name": "stdout",
     "output_type": "stream",
     "text": [
      "2.0.1\n"
     ]
    }
   ],
   "source": [
    "import json\n",
    "import graphene\n",
    "\n",
    "print(graphene.__version__)\n",
    "\n",
    "def unorder(ordered_dict):\n",
    "    return json.dumps(ordered_dict, indent=4)\n",
    "\n",
    "def run(query, request):\n",
    "    schema = graphene.Schema(query=query)\n",
    "    result = schema.execute(request)\n",
    "    if result.errors:\n",
    "        raise Exception(result.errors)\n",
    "    print( unorder(result.data) )"
   ]
  },
  {
   "cell_type": "code",
   "execution_count": 2,
   "metadata": {},
   "outputs": [],
   "source": [
    "class User(graphene.ObjectType):\n",
    "    name = graphene.String()\n",
    "    best_friend = graphene.Field(lambda: User)\n",
    "    friends = graphene.Field(graphene.List(lambda: User))\n",
    "    \n",
    "    best_friend_id = 100\n",
    "    friend_ids = [1, 2, 3, 4, 5, 6, 7, 8, 9] \n",
    "\n",
    "    def resolve_best_friend(self, info):\n",
    "        return user_loader.load(self.best_friend_id)\n",
    "\n",
    "    def resolve_friends(self, info):\n",
    "        return user_loader.load_many(self.friend_ids)\n",
    "    \n",
    "class Query(graphene.ObjectType):\n",
    "    \n",
    "    me = graphene.Field(User)\n",
    "\n",
    "    def resolve_me(self, info):\n",
    "        return User(name='abcd')\n",
    "    \n",
    "def get_users(ids):\n",
    "    print(f\"get_users({ids}) SELECT * FROM table_user WHERE id IN {ids}\")\n",
    "    return [User(name=f\"User{id}\") for id in ids]"
   ]
  },
  {
   "cell_type": "code",
   "execution_count": 3,
   "metadata": {},
   "outputs": [],
   "source": [
    "from promise import Promise\n",
    "from promise.dataloader import DataLoader\n",
    "\n",
    "class UserLoader(DataLoader):\n",
    "    def batch_load_fn(self, keys):\n",
    "        # Here we return a promise that will result on the\n",
    "        # corresponding user for each key in keys\n",
    "        print(f'self.batch_load_fn({keys})')\n",
    "        return Promise.resolve(get_users(ids=keys))"
   ]
  },
  {
   "cell_type": "code",
   "execution_count": 4,
   "metadata": {},
   "outputs": [
    {
     "name": "stdout",
     "output_type": "stream",
     "text": [
      "====\n",
      "self.batch_load_fn([1])\n",
      "get_users([1]) SELECT * FROM table_user WHERE id IN [1]\n",
      "self.batch_load_fn([100])\n",
      "get_users([100]) SELECT * FROM table_user WHERE id IN [100]\n",
      "====\n",
      "self.batch_load_fn([2])\n",
      "get_users([2]) SELECT * FROM table_user WHERE id IN [2]\n"
     ]
    },
    {
     "data": {
      "text/plain": [
       "<Promise at 0x102c49320 fulfilled with <__main__.User object at 0x102c49208>>"
      ]
     },
     "execution_count": 4,
     "metadata": {},
     "output_type": "execute_result"
    }
   ],
   "source": [
    "user_loader = UserLoader()\n",
    "\n",
    "print('====')\n",
    "user_loader.load(1).then(lambda user: user_loader.load(user.best_friend_id))\n",
    "print('====')\n",
    "user_loader.load(2).then(lambda user: user_loader.load(user.best_friend_id))\n"
   ]
  },
  {
   "cell_type": "code",
   "execution_count": 5,
   "metadata": {},
   "outputs": [
    {
     "name": "stdout",
     "output_type": "stream",
     "text": [
      "self.batch_load_fn([3, 4, 5, 6, 7, 8, 9])\n",
      "get_users([3, 4, 5, 6, 7, 8, 9]) SELECT * FROM table_user WHERE id IN [3, 4, 5, 6, 7, 8, 9]\n",
      "{\n",
      "    \"me\": {\n",
      "        \"name\": \"abcd\",\n",
      "        \"bestFriend\": {\n",
      "            \"name\": \"User100\"\n",
      "        },\n",
      "        \"friends\": [\n",
      "            {\n",
      "                \"name\": \"User1\",\n",
      "                \"bestFriend\": {\n",
      "                    \"name\": \"User100\"\n",
      "                }\n",
      "            },\n",
      "            {\n",
      "                \"name\": \"User2\",\n",
      "                \"bestFriend\": {\n",
      "                    \"name\": \"User100\"\n",
      "                }\n",
      "            },\n",
      "            {\n",
      "                \"name\": \"User3\",\n",
      "                \"bestFriend\": {\n",
      "                    \"name\": \"User100\"\n",
      "                }\n",
      "            },\n",
      "            {\n",
      "                \"name\": \"User4\",\n",
      "                \"bestFriend\": {\n",
      "                    \"name\": \"User100\"\n",
      "                }\n",
      "            },\n",
      "            {\n",
      "                \"name\": \"User5\",\n",
      "                \"bestFriend\": {\n",
      "                    \"name\": \"User100\"\n",
      "                }\n",
      "            },\n",
      "            {\n",
      "                \"name\": \"User6\",\n",
      "                \"bestFriend\": {\n",
      "                    \"name\": \"User100\"\n",
      "                }\n",
      "            },\n",
      "            {\n",
      "                \"name\": \"User7\",\n",
      "                \"bestFriend\": {\n",
      "                    \"name\": \"User100\"\n",
      "                }\n",
      "            },\n",
      "            {\n",
      "                \"name\": \"User8\",\n",
      "                \"bestFriend\": {\n",
      "                    \"name\": \"User100\"\n",
      "                }\n",
      "            },\n",
      "            {\n",
      "                \"name\": \"User9\",\n",
      "                \"bestFriend\": {\n",
      "                    \"name\": \"User100\"\n",
      "                }\n",
      "            }\n",
      "        ]\n",
      "    }\n",
      "}\n"
     ]
    }
   ],
   "source": [
    "run(Query, \"\"\"\n",
    "{\n",
    "  me {\n",
    "    name\n",
    "    bestFriend {\n",
    "      name\n",
    "    }\n",
    "    friends {\n",
    "      name\n",
    "      bestFriend {\n",
    "        name\n",
    "      }\n",
    "    }\n",
    "  }\n",
    "}\n",
    "\"\"\")"
   ]
  },
  {
   "cell_type": "code",
   "execution_count": null,
   "metadata": {},
   "outputs": [],
   "source": []
  },
  {
   "cell_type": "code",
   "execution_count": null,
   "metadata": {},
   "outputs": [],
   "source": []
  },
  {
   "cell_type": "code",
   "execution_count": null,
   "metadata": {},
   "outputs": [],
   "source": []
  },
  {
   "cell_type": "code",
   "execution_count": null,
   "metadata": {
    "scrolled": false
   },
   "outputs": [],
   "source": []
  },
  {
   "cell_type": "code",
   "execution_count": null,
   "metadata": {},
   "outputs": [],
   "source": []
  }
 ],
 "metadata": {
  "kernelspec": {
   "display_name": "Python 3",
   "language": "python",
   "name": "python3"
  },
  "language_info": {
   "codemirror_mode": {
    "name": "ipython",
    "version": 3
   },
   "file_extension": ".py",
   "mimetype": "text/x-python",
   "name": "python",
   "nbconvert_exporter": "python",
   "pygments_lexer": "ipython3",
   "version": "3.6.4"
  }
 },
 "nbformat": 4,
 "nbformat_minor": 2
}
