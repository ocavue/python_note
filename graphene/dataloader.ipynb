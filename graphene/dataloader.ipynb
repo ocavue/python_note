{
 "cells": [
  {
   "cell_type": "code",
   "execution_count": 1,
   "metadata": {},
   "outputs": [],
   "source": [
    "from promise import Promise\n",
    "from promise.dataloader import DataLoader"
   ]
  },
  {
   "cell_type": "code",
   "execution_count": null,
   "metadata": {},
   "outputs": [],
   "source": []
  },
  {
   "cell_type": "code",
   "execution_count": 2,
   "metadata": {},
   "outputs": [],
   "source": [
    "class UserLoader(DataLoader):\n",
    "    cache = False\n",
    "    \n",
    "    def batch_load_fn(self, keys):\n",
    "        print('SELECT * FROM tbl_user WHERE id IN {}'.format(keys))\n",
    "        return Promise.resolve([\n",
    "            {'id': id, 'friend_ids': [i + id for i in range(10, 13)]} \n",
    "            for id in keys\n",
    "        ])\n",
    "\n",
    "user_loader = UserLoader()"
   ]
  },
  {
   "cell_type": "code",
   "execution_count": 3,
   "metadata": {},
   "outputs": [
    {
     "name": "stdout",
     "output_type": "stream",
     "text": [
      "SELECT * FROM tbl_user WHERE id IN [1]\n",
      "<Promise at 0x1031747b8 fulfilled with {'id': 1, 'friend_ids': [11, 12, 13]}>\n"
     ]
    }
   ],
   "source": [
    "user_promise = user_loader.load(1)\n",
    "print(user_promise)"
   ]
  },
  {
   "cell_type": "code",
   "execution_count": 8,
   "metadata": {},
   "outputs": [
    {
     "name": "stdout",
     "output_type": "stream",
     "text": [
      "SELECT * FROM tbl_user WHERE id IN [11, 12, 13]\n",
      "SELECT * FROM tbl_user WHERE id IN [21, 22, 23, 22, 23, 24, 23, 24, 25]\n"
     ]
    },
    {
     "data": {
      "text/plain": [
       "<Promise at 0x1031a7278 fulfilled with [<Promise at 0x1031a7208 fulfilled with [{'id': 21, 'friend_ids': [31, 32, 33]}, {'id': 22, 'friend_ids': [32, 33, 34]}, {'id': 23, 'friend_ids': [33, 34, 35]}]>, <Promise at 0x102ff57f0 fulfilled with [{'id': 22, 'friend_ids': [32, 33, 34]}, {'id': 23, 'friend_ids': [33, 34, 35]}, {'id': 24, 'friend_ids': [34, 35, 36]}]>, <Promise at 0x102ff5860 fulfilled with [{'id': 23, 'friend_ids': [33, 34, 35]}, {'id': 24, 'friend_ids': [34, 35, 36]}, {'id': 25, 'friend_ids': [35, 36, 37]}]>]>"
      ]
     },
     "execution_count": 8,
     "metadata": {},
     "output_type": "execute_result"
    }
   ],
   "source": [
    "user_promise.then(lambda user: user_loader.load_many(user['friend_ids']))\n",
    "# user_promise.then(lambda user: user_loader.load_many(user['friend_ids'])).then(\n",
    "#     lambda users: [\n",
    "#         user_loader.load_many(user['friend_ids'])\n",
    "#         for user in users\n",
    "#     ]\n",
    "# )\n"
   ]
  },
  {
   "cell_type": "code",
   "execution_count": 5,
   "metadata": {},
   "outputs": [
    {
     "name": "stdout",
     "output_type": "stream",
     "text": [
      "start [30, 31, 32]\n",
      "SELECT * FROM tbl_user WHERE id IN [30]\n",
      "SELECT * FROM tbl_user WHERE id IN [31]\n",
      "SELECT * FROM tbl_user WHERE id IN [32]\n",
      "end\n"
     ]
    },
    {
     "data": {
      "text/plain": [
       "<Promise at 0x1031743c8 fulfilled with [{'id': 30, 'friend_ids': [40, 41, 42]}, {'id': 31, 'friend_ids': [41, 42, 43]}, {'id': 32, 'friend_ids': [42, 43, 44]}]>"
      ]
     },
     "execution_count": 5,
     "metadata": {},
     "output_type": "execute_result"
    }
   ],
   "source": [
    "def lam(friend_ids):\n",
    "    print('start', friend_ids)\n",
    "    r = user_loader.load_many(friend_ids)\n",
    "    print('end')\n",
    "    return r\n",
    "lam([30, 31, 32])"
   ]
  },
  {
   "cell_type": "code",
   "execution_count": 6,
   "metadata": {},
   "outputs": [
    {
     "name": "stdout",
     "output_type": "stream",
     "text": [
      "SELECT * FROM tbl_user WHERE id IN [30]\n",
      "SELECT * FROM tbl_user WHERE id IN [31]\n",
      "SELECT * FROM tbl_user WHERE id IN [32]\n",
      "[{'id': 30, 'friend_ids': [40, 41, 42]}, {'id': 31, 'friend_ids': [41, 42, 43]}, {'id': 32, 'friend_ids': [42, 43, 44]}]\n"
     ]
    }
   ],
   "source": [
    "async def f():\n",
    "    r = await user_loader.load_many([30, 31, 32])\n",
    "    print(r)\n",
    "    return r\n",
    "import asyncio\n",
    "loop = asyncio.new_event_loop()\n",
    "result = loop.run_until_complete(f())\n",
    "loop.close()"
   ]
  },
  {
   "cell_type": "code",
   "execution_count": null,
   "metadata": {},
   "outputs": [],
   "source": []
  },
  {
   "cell_type": "code",
   "execution_count": null,
   "metadata": {},
   "outputs": [],
   "source": []
  }
 ],
 "metadata": {
  "kernelspec": {
   "display_name": "Python 3",
   "language": "python",
   "name": "python3"
  },
  "language_info": {
   "codemirror_mode": {
    "name": "ipython",
    "version": 3
   },
   "file_extension": ".py",
   "mimetype": "text/x-python",
   "name": "python",
   "nbconvert_exporter": "python",
   "pygments_lexer": "ipython3",
   "version": "3.6.4"
  }
 },
 "nbformat": 4,
 "nbformat_minor": 2
}
