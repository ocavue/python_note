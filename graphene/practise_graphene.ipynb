{
 "cells": [
  {
   "cell_type": "code",
   "execution_count": 1,
   "metadata": {},
   "outputs": [
    {
     "name": "stdout",
     "output_type": "stream",
     "text": [
      "2.0.1\n"
     ]
    }
   ],
   "source": [
    "import json\n",
    "import graphene\n",
    "\n",
    "print(graphene.__version__)\n",
    "\n",
    "def unorder(ordered_dict):\n",
    "    return json.dumps(ordered_dict, indent=4)\n",
    "\n",
    "def run(query, request):\n",
    "    schema = graphene.Schema(query=query)\n",
    "    result = schema.execute(request)\n",
    "    if result.errors:\n",
    "        raise(result.errors)\n",
    "    print( unorder(result.data) )"
   ]
  },
  {
   "cell_type": "code",
   "execution_count": 2,
   "metadata": {},
   "outputs": [],
   "source": [
    "class Query(graphene.ObjectType):\n",
    "    hi = graphene.String()\n",
    "    \n",
    "    hello = graphene.String(name=graphene.String(default_value=\"stranger\"))\n",
    "\n",
    "    def resolve_hi(self, info):\n",
    "        return \"Hi! you look so pretty today\"\n",
    "    \n",
    "    def resolve_hello(self, info, name):\n",
    "        return 'Hello ' + name"
   ]
  },
  {
   "cell_type": "code",
   "execution_count": 3,
   "metadata": {},
   "outputs": [
    {
     "name": "stdout",
     "output_type": "stream",
     "text": [
      "{\n",
      "    \"hi\": \"Hi! you look so pretty today\"\n",
      "}\n",
      "{\n",
      "    \"hello\": \"Hello stranger\"\n",
      "}\n",
      "{\n",
      "    \"hello\": \"Hello MY_NAME\"\n",
      "}\n"
     ]
    }
   ],
   "source": [
    "run(Query, '{ hi }')\n",
    "run(Query, '{ hello }')\n",
    "run(Query, '{ hello (name: \"MY_NAME\") }')"
   ]
  },
  {
   "cell_type": "code",
   "execution_count": 4,
   "metadata": {},
   "outputs": [],
   "source": [
    "class User(graphene.ObjectType):\n",
    "    id = graphene.Int()\n",
    "    username = graphene.String()"
   ]
  },
  {
   "cell_type": "code",
   "execution_count": 5,
   "metadata": {},
   "outputs": [],
   "source": [
    "class Query1(graphene.ObjectType):\n",
    "    \n",
    "    user = graphene.Field(User)\n",
    "\n",
    "    def resolve_user(self, info):\n",
    "        return User(id=1, username='abcd')"
   ]
  },
  {
   "cell_type": "code",
   "execution_count": 6,
   "metadata": {},
   "outputs": [
    {
     "name": "stdout",
     "output_type": "stream",
     "text": [
      "{\n",
      "    \"user\": {\n",
      "        \"id\": 1\n",
      "    }\n",
      "}\n",
      "{\n",
      "    \"user\": {\n",
      "        \"id\": 1,\n",
      "        \"username\": \"abcd\"\n",
      "    }\n",
      "}\n"
     ]
    }
   ],
   "source": [
    "run(Query1, '{ user { id } }')\n",
    "run(Query1, '{ user { id username } }')"
   ]
  },
  {
   "cell_type": "code",
   "execution_count": 7,
   "metadata": {},
   "outputs": [
    {
     "name": "stdout",
     "output_type": "stream",
     "text": [
      "class_id: 1\n",
      "class_id: 2\n",
      "{\n",
      "    \"classrooms\": [\n",
      "        {\n",
      "            \"name\": \"Classroom 1\",\n",
      "            \"students\": [\n",
      "                {\n",
      "                    \"username\": \"NO.100\"\n",
      "                },\n",
      "                {\n",
      "                    \"username\": \"NO.101\"\n",
      "                },\n",
      "                {\n",
      "                    \"username\": \"NO.102\"\n",
      "                }\n",
      "            ]\n",
      "        },\n",
      "        {\n",
      "            \"name\": \"Classroom 2\",\n",
      "            \"students\": [\n",
      "                {\n",
      "                    \"username\": \"NO.200\"\n",
      "                },\n",
      "                {\n",
      "                    \"username\": \"NO.201\"\n",
      "                },\n",
      "                {\n",
      "                    \"username\": \"NO.202\"\n",
      "                }\n",
      "            ]\n",
      "        }\n",
      "    ]\n",
      "}\n"
     ]
    }
   ],
   "source": [
    "class Classroom(graphene.ObjectType):\n",
    "    id = graphene.Int()\n",
    "    name = graphene.String()\n",
    "    students = graphene.Field( graphene.List( User ) )\n",
    "    \n",
    "    def resolve_students(self, info):\n",
    "        print('class_id:', self.id)\n",
    "        users = [\n",
    "            User(id=i, username='NO.' + str(i)) \n",
    "            for i in range(100 * self.id, 100 * self.id + 3)\n",
    "        ]\n",
    "        return users\n",
    "    \n",
    "class Query2(graphene.ObjectType):\n",
    "    \n",
    "    classrooms = graphene.Field( graphene.List( Classroom ) )\n",
    "\n",
    "    def resolve_classrooms(self, info):\n",
    "        return [\n",
    "            Classroom(id = i, name = f'Classroom {i}')\n",
    "            for i in range(1, 3)\n",
    "        ]\n",
    "\n",
    "run(Query2, '{ classrooms { name students { username } } }')"
   ]
  },
  {
   "cell_type": "code",
   "execution_count": null,
   "metadata": {},
   "outputs": [],
   "source": []
  },
  {
   "cell_type": "code",
   "execution_count": null,
   "metadata": {
    "scrolled": false
   },
   "outputs": [],
   "source": []
  },
  {
   "cell_type": "code",
   "execution_count": null,
   "metadata": {},
   "outputs": [],
   "source": []
  }
 ],
 "metadata": {
  "kernelspec": {
   "display_name": "Python 3",
   "language": "python",
   "name": "python3"
  },
  "language_info": {
   "codemirror_mode": {
    "name": "ipython",
    "version": 3
   },
   "file_extension": ".py",
   "mimetype": "text/x-python",
   "name": "python",
   "nbconvert_exporter": "python",
   "pygments_lexer": "ipython3",
   "version": "3.6.4"
  }
 },
 "nbformat": 4,
 "nbformat_minor": 2
}
