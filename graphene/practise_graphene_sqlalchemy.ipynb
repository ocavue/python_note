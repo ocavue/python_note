{
 "cells": [
  {
   "cell_type": "code",
   "execution_count": 1,
   "metadata": {},
   "outputs": [],
   "source": [
    "from sqlalchemy import create_engine\n",
    "engine = create_engine('sqlite:///:memory:', echo=True)\n",
    "from sqlalchemy.ext.declarative import declarative_base\n",
    "Base = declarative_base()"
   ]
  },
  {
   "cell_type": "code",
   "execution_count": 2,
   "metadata": {},
   "outputs": [
    {
     "name": "stdout",
     "output_type": "stream",
     "text": [
      "2018-03-08 03:06:34,059 INFO sqlalchemy.engine.base.Engine SELECT CAST('test plain returns' AS VARCHAR(60)) AS anon_1\n",
      "2018-03-08 03:06:34,060 INFO sqlalchemy.engine.base.Engine ()\n",
      "2018-03-08 03:06:34,062 INFO sqlalchemy.engine.base.Engine SELECT CAST('test unicode returns' AS VARCHAR(60)) AS anon_1\n",
      "2018-03-08 03:06:34,063 INFO sqlalchemy.engine.base.Engine ()\n",
      "2018-03-08 03:06:34,064 INFO sqlalchemy.engine.base.Engine PRAGMA table_info(\"users\")\n",
      "2018-03-08 03:06:34,065 INFO sqlalchemy.engine.base.Engine ()\n",
      "2018-03-08 03:06:34,068 INFO sqlalchemy.engine.base.Engine PRAGMA table_info(\"role\")\n",
      "2018-03-08 03:06:34,069 INFO sqlalchemy.engine.base.Engine ()\n",
      "2018-03-08 03:06:34,070 INFO sqlalchemy.engine.base.Engine PRAGMA table_info(\"user_role\")\n",
      "2018-03-08 03:06:34,070 INFO sqlalchemy.engine.base.Engine ()\n",
      "2018-03-08 03:06:34,072 INFO sqlalchemy.engine.base.Engine \n",
      "CREATE TABLE users (\n",
      "\tid INTEGER NOT NULL, \n",
      "\tusername VARCHAR, \n",
      "\tPRIMARY KEY (id)\n",
      ")\n",
      "\n",
      "\n",
      "2018-03-08 03:06:34,072 INFO sqlalchemy.engine.base.Engine ()\n",
      "2018-03-08 03:06:34,073 INFO sqlalchemy.engine.base.Engine COMMIT\n",
      "2018-03-08 03:06:34,074 INFO sqlalchemy.engine.base.Engine \n",
      "CREATE TABLE role (\n",
      "\tid INTEGER NOT NULL, \n",
      "\tname VARCHAR, \n",
      "\tPRIMARY KEY (id)\n",
      ")\n",
      "\n",
      "\n",
      "2018-03-08 03:06:34,076 INFO sqlalchemy.engine.base.Engine ()\n",
      "2018-03-08 03:06:34,077 INFO sqlalchemy.engine.base.Engine COMMIT\n",
      "2018-03-08 03:06:34,078 INFO sqlalchemy.engine.base.Engine \n",
      "CREATE TABLE user_role (\n",
      "\tid INTEGER NOT NULL, \n",
      "\tuser_id INTEGER, \n",
      "\trole_id INTEGER, \n",
      "\tPRIMARY KEY (id)\n",
      ")\n",
      "\n",
      "\n",
      "2018-03-08 03:06:34,079 INFO sqlalchemy.engine.base.Engine ()\n",
      "2018-03-08 03:06:34,080 INFO sqlalchemy.engine.base.Engine COMMIT\n"
     ]
    }
   ],
   "source": [
    "from sqlalchemy import Column, Integer, String\n",
    "\n",
    "class UserModel(Base):\n",
    "    __tablename__ = 'users'\n",
    "\n",
    "    id = Column(Integer, primary_key=True)\n",
    "    username = Column(String)\n",
    "    \n",
    "class RoleModel(Base):\n",
    "    __tablename__ = 'role'\n",
    "    \n",
    "    id = Column(Integer, primary_key=True)\n",
    "    name = Column(String)\n",
    "    \n",
    "class UserRoleModel(Base):\n",
    "    __tablename__ = 'user_role'\n",
    "    \n",
    "    id = Column(Integer, primary_key=True)\n",
    "    user_id = Column(Integer)\n",
    "    role_id = Column(Integer)\n",
    "    \n",
    "Base.metadata.create_all(engine)"
   ]
  },
  {
   "cell_type": "code",
   "execution_count": 3,
   "metadata": {},
   "outputs": [],
   "source": [
    "from sqlalchemy.orm import sessionmaker\n",
    "Session = sessionmaker(bind=engine)"
   ]
  },
  {
   "cell_type": "code",
   "execution_count": 4,
   "metadata": {},
   "outputs": [
    {
     "name": "stdout",
     "output_type": "stream",
     "text": [
      "2018-03-08 03:06:34,109 INFO sqlalchemy.engine.base.Engine BEGIN (implicit)\n",
      "2018-03-08 03:06:34,113 INFO sqlalchemy.engine.base.Engine INSERT INTO role (name) VALUES (?)\n",
      "2018-03-08 03:06:34,113 INFO sqlalchemy.engine.base.Engine ('r1',)\n",
      "2018-03-08 03:06:34,115 INFO sqlalchemy.engine.base.Engine INSERT INTO role (name) VALUES (?)\n",
      "2018-03-08 03:06:34,116 INFO sqlalchemy.engine.base.Engine ('r1',)\n",
      "2018-03-08 03:06:34,117 INFO sqlalchemy.engine.base.Engine INSERT INTO users (username) VALUES (?)\n",
      "2018-03-08 03:06:34,119 INFO sqlalchemy.engine.base.Engine ('u1',)\n",
      "2018-03-08 03:06:34,120 INFO sqlalchemy.engine.base.Engine INSERT INTO users (username) VALUES (?)\n",
      "2018-03-08 03:06:34,121 INFO sqlalchemy.engine.base.Engine ('u2',)\n",
      "2018-03-08 03:06:34,124 INFO sqlalchemy.engine.base.Engine INSERT INTO user_role (user_id, role_id) VALUES (?, ?)\n",
      "2018-03-08 03:06:34,126 INFO sqlalchemy.engine.base.Engine (1, 1)\n",
      "2018-03-08 03:06:34,127 INFO sqlalchemy.engine.base.Engine INSERT INTO user_role (user_id, role_id) VALUES (?, ?)\n",
      "2018-03-08 03:06:34,128 INFO sqlalchemy.engine.base.Engine (2, 2)\n",
      "2018-03-08 03:06:34,132 INFO sqlalchemy.engine.base.Engine COMMIT\n",
      "2018-03-08 03:06:34,134 INFO sqlalchemy.engine.base.Engine BEGIN (implicit)\n",
      "2018-03-08 03:06:34,135 INFO sqlalchemy.engine.base.Engine SELECT user_role.id AS user_role_id, user_role.user_id AS user_role_user_id, user_role.role_id AS user_role_role_id \n",
      "FROM user_role\n",
      "2018-03-08 03:06:34,136 INFO sqlalchemy.engine.base.Engine ()\n"
     ]
    },
    {
     "data": {
      "text/plain": [
       "[<__main__.UserRoleModel at 0x1127d96d8>,\n",
       " <__main__.UserRoleModel at 0x1127d9748>]"
      ]
     },
     "execution_count": 4,
     "metadata": {},
     "output_type": "execute_result"
    }
   ],
   "source": [
    "session = Session()\n",
    "\n",
    "user1 = UserModel(username=\"u1\")\n",
    "user2 = UserModel(username=\"u2\")\n",
    "\n",
    "role1 = RoleModel(name=\"r1\")\n",
    "role2 = RoleModel(name=\"r1\")\n",
    "\n",
    "session.add_all([user1, user2, role1, role2])\n",
    "session.flush()\n",
    "\n",
    "session.add_all([\n",
    "    UserRoleModel(user_id = user1.id, role_id = role1.id), \n",
    "    UserRoleModel(user_id = user2.id, role_id = role2.id)\n",
    "])\n",
    "\n",
    "session.commit()\n",
    "session.query(UserRoleModel).filter().all()"
   ]
  },
  {
   "cell_type": "code",
   "execution_count": 5,
   "metadata": {},
   "outputs": [],
   "source": [
    "from graphene_sqlalchemy import SQLAlchemyObjectType\n",
    "import graphene\n",
    "\n",
    "class User(SQLAlchemyObjectType):\n",
    "    class Meta:\n",
    "        model = UserModel\n",
    "        \n",
    "class Query(graphene.ObjectType):\n",
    "    users = graphene.List(User)\n",
    "\n",
    "    def resolve_users(self, info):\n",
    "        query = User.get_query(info)  # SQLAlchemy query\n",
    "        return query.all()\n",
    "\n",
    "schema = graphene.Schema(query=Query)"
   ]
  },
  {
   "cell_type": "code",
   "execution_count": null,
   "metadata": {},
   "outputs": [],
   "source": []
  },
  {
   "cell_type": "code",
   "execution_count": 6,
   "metadata": {},
   "outputs": [
    {
     "name": "stdout",
     "output_type": "stream",
     "text": [
      "2018-03-08 03:06:34,384 INFO sqlalchemy.engine.base.Engine SELECT users.id AS users_id, users.username AS users_username \n",
      "FROM users\n",
      "2018-03-08 03:06:34,384 INFO sqlalchemy.engine.base.Engine ()\n",
      "OrderedDict([('users', [OrderedDict([('username', 'u1')]), OrderedDict([('username', 'u2')])])])\n"
     ]
    },
    {
     "data": {
      "text/plain": [
       "{'users': [{'username': 'u1'}, {'username': 'u2'}]}"
      ]
     },
     "execution_count": 6,
     "metadata": {},
     "output_type": "execute_result"
    }
   ],
   "source": [
    "result = schema.execute(\n",
    "    '''\n",
    "        query {\n",
    "          users {\n",
    "            username,\n",
    "          }\n",
    "        }\n",
    "    ''', \n",
    "    context_value={'session': session}\n",
    ").data\n",
    "\n",
    "import json\n",
    "def dit(ordered_dict):  \n",
    "    # ordered_dict => normal dict\n",
    "    return json.loads(json.dumps(ordered_dict))\n",
    "\n",
    "print(result)\n",
    "dit(result)"
   ]
  },
  {
   "cell_type": "code",
   "execution_count": null,
   "metadata": {},
   "outputs": [],
   "source": []
  },
  {
   "cell_type": "code",
   "execution_count": null,
   "metadata": {},
   "outputs": [],
   "source": []
  }
 ],
 "metadata": {
  "kernelspec": {
   "display_name": "Python 3",
   "language": "python",
   "name": "python3"
  },
  "language_info": {
   "codemirror_mode": {
    "name": "ipython",
    "version": 3
   },
   "file_extension": ".py",
   "mimetype": "text/x-python",
   "name": "python",
   "nbconvert_exporter": "python",
   "pygments_lexer": "ipython3",
   "version": "3.6.4"
  }
 },
 "nbformat": 4,
 "nbformat_minor": 2
}
