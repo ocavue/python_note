{
 "cells": [
  {
   "cell_type": "code",
   "execution_count": 1,
   "metadata": {},
   "outputs": [
    {
     "name": "stdout",
     "output_type": "stream",
     "text": [
      "2.0.1\n"
     ]
    }
   ],
   "source": [
    "import json\n",
    "import graphene\n",
    "\n",
    "print(graphene.__version__)\n",
    "\n",
    "def unorder(ordered_dict):\n",
    "    return json.dumps(ordered_dict, indent=4)\n",
    "\n",
    "def run(query, request):\n",
    "    schema = graphene.Schema(query=query)\n",
    "    result = schema.execute(request)\n",
    "    if result.errors:\n",
    "        print('=' * 100)\n",
    "        print(f'{len(result.errors)} errors')\n",
    "        print('=' * 100)\n",
    "#         raise(result.errors[0])\n",
    "    print( unorder(result.data) )\n",
    "    "
   ]
  },
  {
   "cell_type": "code",
   "execution_count": 2,
   "metadata": {},
   "outputs": [],
   "source": [
    "def get_hi():\n",
    "    assert 1 == 1\n",
    "    assert 2 == 3\n",
    "    assert 3 == 3\n",
    "\n",
    "class Query(graphene.ObjectType):\n",
    "    hi = graphene.String()\n",
    "    \n",
    "    hello = graphene.String(name=graphene.String(default_value=\"stranger\"))\n",
    "\n",
    "    def resolve_hi(self, info):\n",
    "        get_hi()\n",
    "        return \"Hi! you look so pretty today\"\n",
    "    \n",
    "    def resolve_hello(self, info, name):\n",
    "        return 'Hello ' + name"
   ]
  },
  {
   "cell_type": "code",
   "execution_count": 3,
   "metadata": {},
   "outputs": [
    {
     "name": "stderr",
     "output_type": "stream",
     "text": [
      "An error occurred while resolving field Query.hi\n",
      "Traceback (most recent call last):\n",
      "  File \"/usr/local/lib/python3.6/site-packages/graphql/execution/executor.py\", line 311, in resolve_or_error\n",
      "    return executor.execute(resolve_fn, source, info, **args)\n",
      "  File \"/usr/local/lib/python3.6/site-packages/graphql/execution/executors/sync.py\", line 7, in execute\n",
      "    return fn(*args, **kwargs)\n",
      "  File \"<ipython-input-2-e66e10420c43>\", line 12, in resolve_hi\n",
      "    get_hi()\n",
      "  File \"<ipython-input-2-e66e10420c43>\", line 3, in get_hi\n",
      "    assert 2 == 3\n",
      "AssertionError\n"
     ]
    },
    {
     "ename": "GraphQLLocatedError",
     "evalue": "",
     "output_type": "error",
     "traceback": [
      "\u001b[0;31m---------------------------------------------------------------------------\u001b[0m",
      "\u001b[0;31mGraphQLLocatedError\u001b[0m                       Traceback (most recent call last)",
      "\u001b[0;32m/usr/local/lib/python3.6/site-packages/graphql/execution/executor.py\u001b[0m in \u001b[0;36mresolve_or_error\u001b[0;34m(resolve_fn, source, info, args, executor)\u001b[0m\n\u001b[1;32m    309\u001b[0m \u001b[0;32mdef\u001b[0m \u001b[0mresolve_or_error\u001b[0m\u001b[0;34m(\u001b[0m\u001b[0mresolve_fn\u001b[0m\u001b[0;34m,\u001b[0m \u001b[0msource\u001b[0m\u001b[0;34m,\u001b[0m \u001b[0minfo\u001b[0m\u001b[0;34m,\u001b[0m \u001b[0margs\u001b[0m\u001b[0;34m,\u001b[0m \u001b[0mexecutor\u001b[0m\u001b[0;34m)\u001b[0m\u001b[0;34m:\u001b[0m\u001b[0;34m\u001b[0m\u001b[0m\n\u001b[1;32m    310\u001b[0m     \u001b[0;32mtry\u001b[0m\u001b[0;34m:\u001b[0m\u001b[0;34m\u001b[0m\u001b[0m\n\u001b[0;32m--> 311\u001b[0;31m         \u001b[0;32mreturn\u001b[0m \u001b[0mexecutor\u001b[0m\u001b[0;34m.\u001b[0m\u001b[0mexecute\u001b[0m\u001b[0;34m(\u001b[0m\u001b[0mresolve_fn\u001b[0m\u001b[0;34m,\u001b[0m \u001b[0msource\u001b[0m\u001b[0;34m,\u001b[0m \u001b[0minfo\u001b[0m\u001b[0;34m,\u001b[0m \u001b[0;34m**\u001b[0m\u001b[0margs\u001b[0m\u001b[0;34m)\u001b[0m\u001b[0;34m\u001b[0m\u001b[0m\n\u001b[0m\u001b[1;32m    312\u001b[0m     \u001b[0;32mexcept\u001b[0m \u001b[0mException\u001b[0m \u001b[0;32mas\u001b[0m \u001b[0me\u001b[0m\u001b[0;34m:\u001b[0m\u001b[0;34m\u001b[0m\u001b[0m\n\u001b[1;32m    313\u001b[0m         logger.exception(\"An error occurred while resolving field {}.{}\".format(\n",
      "\u001b[0;32m/usr/local/lib/python3.6/site-packages/graphql/execution/executors/sync.py\u001b[0m in \u001b[0;36mexecute\u001b[0;34m(self, fn, *args, **kwargs)\u001b[0m\n\u001b[1;32m      5\u001b[0m \u001b[0;34m\u001b[0m\u001b[0m\n\u001b[1;32m      6\u001b[0m     \u001b[0;32mdef\u001b[0m \u001b[0mexecute\u001b[0m\u001b[0;34m(\u001b[0m\u001b[0mself\u001b[0m\u001b[0;34m,\u001b[0m \u001b[0mfn\u001b[0m\u001b[0;34m,\u001b[0m \u001b[0;34m*\u001b[0m\u001b[0margs\u001b[0m\u001b[0;34m,\u001b[0m \u001b[0;34m**\u001b[0m\u001b[0mkwargs\u001b[0m\u001b[0;34m)\u001b[0m\u001b[0;34m:\u001b[0m\u001b[0;34m\u001b[0m\u001b[0m\n\u001b[0;32m----> 7\u001b[0;31m         \u001b[0;32mreturn\u001b[0m \u001b[0mfn\u001b[0m\u001b[0;34m(\u001b[0m\u001b[0;34m*\u001b[0m\u001b[0margs\u001b[0m\u001b[0;34m,\u001b[0m \u001b[0;34m**\u001b[0m\u001b[0mkwargs\u001b[0m\u001b[0;34m)\u001b[0m\u001b[0;34m\u001b[0m\u001b[0m\n\u001b[0m",
      "\u001b[0;32m<ipython-input-2-e66e10420c43>\u001b[0m in \u001b[0;36mresolve_hi\u001b[0;34m(self, info)\u001b[0m\n\u001b[1;32m     10\u001b[0m \u001b[0;34m\u001b[0m\u001b[0m\n\u001b[1;32m     11\u001b[0m     \u001b[0;32mdef\u001b[0m \u001b[0mresolve_hi\u001b[0m\u001b[0;34m(\u001b[0m\u001b[0mself\u001b[0m\u001b[0;34m,\u001b[0m \u001b[0minfo\u001b[0m\u001b[0;34m)\u001b[0m\u001b[0;34m:\u001b[0m\u001b[0;34m\u001b[0m\u001b[0m\n\u001b[0;32m---> 12\u001b[0;31m         \u001b[0mget_hi\u001b[0m\u001b[0;34m(\u001b[0m\u001b[0;34m)\u001b[0m\u001b[0;34m\u001b[0m\u001b[0m\n\u001b[0m\u001b[1;32m     13\u001b[0m         \u001b[0;32mreturn\u001b[0m \u001b[0;34m\"Hi! you look so pretty today\"\u001b[0m\u001b[0;34m\u001b[0m\u001b[0m\n\u001b[1;32m     14\u001b[0m \u001b[0;34m\u001b[0m\u001b[0m\n",
      "\u001b[0;32m<ipython-input-2-e66e10420c43>\u001b[0m in \u001b[0;36mget_hi\u001b[0;34m()\u001b[0m\n\u001b[1;32m      1\u001b[0m \u001b[0;32mdef\u001b[0m \u001b[0mget_hi\u001b[0m\u001b[0;34m(\u001b[0m\u001b[0;34m)\u001b[0m\u001b[0;34m:\u001b[0m\u001b[0;34m\u001b[0m\u001b[0m\n\u001b[1;32m      2\u001b[0m     \u001b[0;32massert\u001b[0m \u001b[0;36m1\u001b[0m \u001b[0;34m==\u001b[0m \u001b[0;36m1\u001b[0m\u001b[0;34m\u001b[0m\u001b[0m\n\u001b[0;32m----> 3\u001b[0;31m     \u001b[0;32massert\u001b[0m \u001b[0;36m2\u001b[0m \u001b[0;34m==\u001b[0m \u001b[0;36m3\u001b[0m\u001b[0;34m\u001b[0m\u001b[0m\n\u001b[0m\u001b[1;32m      4\u001b[0m     \u001b[0;32massert\u001b[0m \u001b[0;36m3\u001b[0m \u001b[0;34m==\u001b[0m \u001b[0;36m3\u001b[0m\u001b[0;34m\u001b[0m\u001b[0m\n\u001b[1;32m      5\u001b[0m \u001b[0;34m\u001b[0m\u001b[0m\n",
      "\u001b[0;31mGraphQLLocatedError\u001b[0m: "
     ]
    },
    {
     "name": "stdout",
     "output_type": "stream",
     "text": [
      "====================================================================================================\n",
      "1 errors\n",
      "====================================================================================================\n",
      "{\n",
      "    \"hi\": null\n",
      "}\n",
      "{\n",
      "    \"hello\": \"Hello stranger\"\n",
      "}\n",
      "{\n",
      "    \"hello\": \"Hello MY_NAME\"\n",
      "}\n"
     ]
    }
   ],
   "source": [
    "run(Query, '{ hi }')\n",
    "run(Query, '{ hello }')\n",
    "run(Query, '{ hello (name: \"MY_NAME\") }')"
   ]
  },
  {
   "cell_type": "code",
   "execution_count": 4,
   "metadata": {},
   "outputs": [],
   "source": [
    "class User(graphene.ObjectType):\n",
    "    id = graphene.Int()\n",
    "    username = graphene.String()"
   ]
  },
  {
   "cell_type": "code",
   "execution_count": 5,
   "metadata": {},
   "outputs": [],
   "source": [
    "class Query1(graphene.ObjectType):\n",
    "    \n",
    "    user = graphene.Field(User)\n",
    "\n",
    "    def resolve_user(self, info):\n",
    "        return User(id=1, username='abcd')"
   ]
  },
  {
   "cell_type": "code",
   "execution_count": 6,
   "metadata": {},
   "outputs": [
    {
     "name": "stdout",
     "output_type": "stream",
     "text": [
      "{\n",
      "    \"user\": {\n",
      "        \"id\": 1\n",
      "    }\n",
      "}\n",
      "{\n",
      "    \"user\": {\n",
      "        \"id\": 1,\n",
      "        \"username\": \"abcd\"\n",
      "    }\n",
      "}\n"
     ]
    }
   ],
   "source": [
    "run(Query1, '{ user { id } }')\n",
    "run(Query1, '{ user { id username } }')"
   ]
  },
  {
   "cell_type": "code",
   "execution_count": 7,
   "metadata": {},
   "outputs": [
    {
     "name": "stdout",
     "output_type": "stream",
     "text": [
      "class_id: 1\n",
      "class_id: 2\n",
      "{\n",
      "    \"classrooms\": [\n",
      "        {\n",
      "            \"name\": \"Classroom 1\",\n",
      "            \"students\": [\n",
      "                {\n",
      "                    \"username\": \"NO.100\"\n",
      "                },\n",
      "                {\n",
      "                    \"username\": \"NO.101\"\n",
      "                },\n",
      "                {\n",
      "                    \"username\": \"NO.102\"\n",
      "                }\n",
      "            ]\n",
      "        },\n",
      "        {\n",
      "            \"name\": \"Classroom 2\",\n",
      "            \"students\": [\n",
      "                {\n",
      "                    \"username\": \"NO.200\"\n",
      "                },\n",
      "                {\n",
      "                    \"username\": \"NO.201\"\n",
      "                },\n",
      "                {\n",
      "                    \"username\": \"NO.202\"\n",
      "                }\n",
      "            ]\n",
      "        }\n",
      "    ]\n",
      "}\n"
     ]
    }
   ],
   "source": [
    "class Classroom(graphene.ObjectType):\n",
    "    id = graphene.Int()\n",
    "    name = graphene.String()\n",
    "    students = graphene.Field( graphene.List( User ) )\n",
    "    \n",
    "    def resolve_students(self, info):\n",
    "        print('class_id:', self.id)\n",
    "        users = [\n",
    "            User(id=i, username='NO.' + str(i)) \n",
    "            for i in range(100 * self.id, 100 * self.id + 3)\n",
    "        ]\n",
    "        return users\n",
    "    \n",
    "class Query2(graphene.ObjectType):\n",
    "    \n",
    "    classrooms = graphene.Field( graphene.List( Classroom ) )\n",
    "\n",
    "    def resolve_classrooms(self, info):\n",
    "        return [\n",
    "            Classroom(id = i, name = f'Classroom {i}')\n",
    "            for i in range(1, 3)\n",
    "        ]\n",
    "\n",
    "run(Query2, '{ classrooms { name students { username } } }')"
   ]
  },
  {
   "cell_type": "code",
   "execution_count": null,
   "metadata": {},
   "outputs": [],
   "source": []
  },
  {
   "cell_type": "code",
   "execution_count": null,
   "metadata": {
    "scrolled": false
   },
   "outputs": [],
   "source": []
  },
  {
   "cell_type": "code",
   "execution_count": null,
   "metadata": {},
   "outputs": [],
   "source": []
  }
 ],
 "metadata": {
  "kernelspec": {
   "display_name": "Python 3",
   "language": "python",
   "name": "python3"
  },
  "language_info": {
   "codemirror_mode": {
    "name": "ipython",
    "version": 3
   },
   "file_extension": ".py",
   "mimetype": "text/x-python",
   "name": "python",
   "nbconvert_exporter": "python",
   "pygments_lexer": "ipython3",
   "version": "3.6.4"
  }
 },
 "nbformat": 4,
 "nbformat_minor": 2
}
