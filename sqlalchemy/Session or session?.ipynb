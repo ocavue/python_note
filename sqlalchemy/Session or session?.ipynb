{
 "cells": [
  {
   "cell_type": "code",
   "execution_count": 1,
   "metadata": {},
   "outputs": [
    {
     "name": "stdout",
     "output_type": "stream",
     "text": [
      "1.2.4\n",
      "2018-03-21 18:01:22,160 INFO sqlalchemy.engine.base.Engine SELECT CAST('test plain returns' AS VARCHAR(60)) AS anon_1\n",
      "2018-03-21 18:01:22,161 INFO sqlalchemy.engine.base.Engine ()\n",
      "2018-03-21 18:01:22,162 INFO sqlalchemy.engine.base.Engine SELECT CAST('test unicode returns' AS VARCHAR(60)) AS anon_1\n",
      "2018-03-21 18:01:22,162 INFO sqlalchemy.engine.base.Engine ()\n",
      "2018-03-21 18:01:22,165 INFO sqlalchemy.engine.base.Engine PRAGMA table_info(\"users\")\n",
      "2018-03-21 18:01:22,165 INFO sqlalchemy.engine.base.Engine ()\n",
      "2018-03-21 18:01:22,167 INFO sqlalchemy.engine.base.Engine \n",
      "CREATE TABLE users (\n",
      "\tid INTEGER NOT NULL, \n",
      "\tname VARCHAR, \n",
      "\tfullname VARCHAR, \n",
      "\tpassword VARCHAR, \n",
      "\tPRIMARY KEY (id)\n",
      ")\n",
      "\n",
      "\n",
      "2018-03-21 18:01:22,168 INFO sqlalchemy.engine.base.Engine ()\n",
      "2018-03-21 18:01:22,169 INFO sqlalchemy.engine.base.Engine COMMIT\n"
     ]
    }
   ],
   "source": [
    "# http://docs.sqlalchemy.org/en/latest/orm/tutorial.html\n",
    "import sqlalchemy\n",
    "print(sqlalchemy.__version__)\n",
    "\n",
    "from sqlalchemy import create_engine\n",
    "engine = create_engine('sqlite:///:memory:', echo=True)\n",
    "from sqlalchemy.ext.declarative import declarative_base\n",
    "Base = declarative_base()\n",
    "\n",
    "from sqlalchemy import Column, Integer, String\n",
    "class User(Base):\n",
    "    __tablename__ = 'users'\n",
    "\n",
    "    id = Column(Integer, primary_key=True)\n",
    "    name = Column(String)\n",
    "    fullname = Column(String)\n",
    "    password = Column(String)\n",
    "    \n",
    "    def __repr__(self):\n",
    "        return f'<user name={self.name}>'\n",
    "    \n",
    "Base.metadata.create_all(engine)"
   ]
  },
  {
   "cell_type": "code",
   "execution_count": 2,
   "metadata": {},
   "outputs": [],
   "source": [
    "from sqlalchemy.orm import sessionmaker, scoped_session\n",
    "Session = scoped_session(sessionmaker(bind=engine))\n"
   ]
  },
  {
   "cell_type": "code",
   "execution_count": 3,
   "metadata": {},
   "outputs": [],
   "source": [
    "# Does Session.commit() will send SQL (No)\n",
    "Session.commit()"
   ]
  },
  {
   "cell_type": "code",
   "execution_count": 4,
   "metadata": {},
   "outputs": [
    {
     "name": "stdout",
     "output_type": "stream",
     "text": [
      "2018-03-21 18:01:22,199 INFO sqlalchemy.engine.base.Engine BEGIN (implicit)\n",
      "2018-03-21 18:01:22,202 INFO sqlalchemy.engine.base.Engine INSERT INTO users (name, fullname, password) VALUES (?, ?, ?)\n",
      "2018-03-21 18:01:22,203 INFO sqlalchemy.engine.base.Engine ('1', None, None)\n",
      "2018-03-21 18:01:22,205 INFO sqlalchemy.engine.base.Engine SELECT users.id AS users_id, users.name AS users_name, users.fullname AS users_fullname, users.password AS users_password \n",
      "FROM users \n",
      "WHERE users.name = ?\n",
      "2018-03-21 18:01:22,206 INFO sqlalchemy.engine.base.Engine ('1',)\n",
      "USER: [<user name=1>]\n",
      "2018-03-21 18:01:22,208 INFO sqlalchemy.engine.base.Engine COMMIT\n",
      "2018-03-21 18:01:22,210 INFO sqlalchemy.engine.base.Engine BEGIN (implicit)\n",
      "2018-03-21 18:01:22,211 INFO sqlalchemy.engine.base.Engine SELECT users.id AS users_id, users.name AS users_name, users.fullname AS users_fullname, users.password AS users_password \n",
      "FROM users \n",
      "WHERE users.name = ?\n",
      "2018-03-21 18:01:22,212 INFO sqlalchemy.engine.base.Engine ('1',)\n",
      "USER: [<user name=1>]\n"
     ]
    }
   ],
   "source": [
    "# request NO.1\n",
    "Session.add(User(name=\"1\"))\n",
    "\n",
    "print('USER:', Session.query(User).filter(User.name == \"1\").all())\n",
    "\n",
    "Session.commit()\n",
    "\n",
    "print('USER:', Session.query(User).filter(User.name == \"1\").all())"
   ]
  },
  {
   "cell_type": "code",
   "execution_count": 5,
   "metadata": {},
   "outputs": [
    {
     "name": "stdout",
     "output_type": "stream",
     "text": [
      "2018-03-21 18:01:22,225 INFO sqlalchemy.engine.base.Engine INSERT INTO users (name, fullname, password) VALUES (?, ?, ?)\n",
      "2018-03-21 18:01:22,227 INFO sqlalchemy.engine.base.Engine ('2', None, None)\n",
      "2018-03-21 18:01:22,228 INFO sqlalchemy.engine.base.Engine SELECT users.id AS users_id, users.name AS users_name, users.fullname AS users_fullname, users.password AS users_password \n",
      "FROM users \n",
      "WHERE users.name = ?\n",
      "2018-03-21 18:01:22,229 INFO sqlalchemy.engine.base.Engine ('2',)\n",
      "USER: [<user name=2>]\n",
      "2018-03-21 18:01:22,230 INFO sqlalchemy.engine.base.Engine COMMIT\n"
     ]
    }
   ],
   "source": [
    "# request NO.2\n",
    "\n",
    "session2 = Session()\n",
    "session3 = Session()\n",
    "\n",
    "session2.add(User(name=\"2\"))\n",
    "print('USER:', session3.query(User).filter(User.name == \"2\").all())\n",
    "session2.commit()\n"
   ]
  },
  {
   "cell_type": "code",
   "execution_count": 6,
   "metadata": {},
   "outputs": [
    {
     "name": "stdout",
     "output_type": "stream",
     "text": [
      "2018-03-21 18:01:22,252 INFO sqlalchemy.engine.base.Engine BEGIN (implicit)\n",
      "2018-03-21 18:01:22,254 INFO sqlalchemy.engine.base.Engine SELECT users.id AS users_id, users.name AS users_name, users.fullname AS users_fullname, users.password AS users_password \n",
      "FROM users \n",
      "WHERE users.name = ?\n",
      "2018-03-21 18:01:22,254 INFO sqlalchemy.engine.base.Engine ('4',)\n",
      "[]\n"
     ]
    }
   ],
   "source": [
    "try:\n",
    "    session4 = Session()\n",
    "    session4.add(User(name=\"4\"))\n",
    "    \n",
    "    assert 1==2\n",
    "    session4.commit()\n",
    "except Exception as e:\n",
    "    Session.rollback()\n",
    "    \n",
    "print(session4.query(User).filter(User.name == \"4\").all())\n",
    "    "
   ]
  },
  {
   "cell_type": "code",
   "execution_count": null,
   "metadata": {},
   "outputs": [],
   "source": []
  }
 ],
 "metadata": {
  "kernelspec": {
   "display_name": "Python 3",
   "language": "python",
   "name": "python3"
  },
  "language_info": {
   "codemirror_mode": {
    "name": "ipython",
    "version": 3
   },
   "file_extension": ".py",
   "mimetype": "text/x-python",
   "name": "python",
   "nbconvert_exporter": "python",
   "pygments_lexer": "ipython3",
   "version": "3.6.4"
  }
 },
 "nbformat": 4,
 "nbformat_minor": 2
}
