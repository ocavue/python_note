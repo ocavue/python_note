{
 "cells": [
  {
   "cell_type": "code",
   "execution_count": 1,
   "metadata": {},
   "outputs": [
    {
     "data": {
      "text/plain": [
       "'1.2.4'"
      ]
     },
     "execution_count": 1,
     "metadata": {},
     "output_type": "execute_result"
    }
   ],
   "source": [
    "# http://docs.sqlalchemy.org/en/latest/orm/tutorial.html\n",
    "# https://stackoverflow.com/questions/37806625/sqlalchemy-create-relations-but-without-foreign-key-constraint-in-db\n",
    "import sqlalchemy\n",
    "sqlalchemy.__version__ "
   ]
  },
  {
   "cell_type": "code",
   "execution_count": 2,
   "metadata": {},
   "outputs": [],
   "source": [
    "from sqlalchemy import create_engine\n",
    "engine = create_engine('sqlite:///:memory:', echo=True)\n",
    "from sqlalchemy.ext.declarative import declarative_base\n",
    "Base = declarative_base()"
   ]
  },
  {
   "cell_type": "code",
   "execution_count": 3,
   "metadata": {
    "scrolled": false
   },
   "outputs": [
    {
     "name": "stdout",
     "output_type": "stream",
     "text": [
      "2018-03-07 19:46:46,433 INFO sqlalchemy.engine.base.Engine SELECT CAST('test plain returns' AS VARCHAR(60)) AS anon_1\n",
      "2018-03-07 19:46:46,433 INFO sqlalchemy.engine.base.Engine ()\n",
      "2018-03-07 19:46:46,435 INFO sqlalchemy.engine.base.Engine SELECT CAST('test unicode returns' AS VARCHAR(60)) AS anon_1\n",
      "2018-03-07 19:46:46,435 INFO sqlalchemy.engine.base.Engine ()\n",
      "2018-03-07 19:46:46,436 INFO sqlalchemy.engine.base.Engine PRAGMA table_info(\"users\")\n",
      "2018-03-07 19:46:46,437 INFO sqlalchemy.engine.base.Engine ()\n",
      "2018-03-07 19:46:46,438 INFO sqlalchemy.engine.base.Engine PRAGMA table_info(\"roles\")\n",
      "2018-03-07 19:46:46,439 INFO sqlalchemy.engine.base.Engine ()\n",
      "2018-03-07 19:46:46,440 INFO sqlalchemy.engine.base.Engine \n",
      "CREATE TABLE users (\n",
      "\tid INTEGER NOT NULL, \n",
      "\tname VARCHAR, \n",
      "\trole_id INTEGER, \n",
      "\tPRIMARY KEY (id)\n",
      ")\n",
      "\n",
      "\n",
      "2018-03-07 19:46:46,441 INFO sqlalchemy.engine.base.Engine ()\n",
      "2018-03-07 19:46:46,442 INFO sqlalchemy.engine.base.Engine COMMIT\n",
      "2018-03-07 19:46:46,442 INFO sqlalchemy.engine.base.Engine \n",
      "CREATE TABLE roles (\n",
      "\tid INTEGER NOT NULL, \n",
      "\tname VARCHAR, \n",
      "\tPRIMARY KEY (id)\n",
      ")\n",
      "\n",
      "\n",
      "2018-03-07 19:46:46,443 INFO sqlalchemy.engine.base.Engine ()\n",
      "2018-03-07 19:46:46,444 INFO sqlalchemy.engine.base.Engine COMMIT\n"
     ]
    }
   ],
   "source": [
    "from sqlalchemy import Column, Integer, String\n",
    "from sqlalchemy.orm import relationship\n",
    "\n",
    "class User(Base):\n",
    "    __tablename__ = 'users'\n",
    "\n",
    "    id = Column(Integer, primary_key=True)\n",
    "    name = Column(String)\n",
    "    \n",
    "    role_id = Column(Integer)\n",
    "    \n",
    "    role = relationship(\n",
    "        'Role', \n",
    "        foreign_keys=[role_id],\n",
    "        primaryjoin='User.role_id == Role.id'\n",
    "    )\n",
    "    \n",
    "    def __repr__(self):\n",
    "        return f\"<User id: {self.id}; name: {self.name}; role_id: {self.role_id}>\"\n",
    "    \n",
    "class Role(Base):\n",
    "    __tablename__ = 'roles'\n",
    "    \n",
    "    id = Column(Integer, primary_key=True)\n",
    "    name = Column(String)\n",
    "    \n",
    "\n",
    "    def __repr__(self):\n",
    "        return f\"<Role id: {self.id}; name: {self.name}>\"\n",
    "    \n",
    "Base.metadata.create_all(engine)"
   ]
  },
  {
   "cell_type": "code",
   "execution_count": 4,
   "metadata": {},
   "outputs": [],
   "source": [
    "from sqlalchemy.orm import sessionmaker\n",
    "Session = sessionmaker(bind=engine)"
   ]
  },
  {
   "cell_type": "code",
   "execution_count": 5,
   "metadata": {
    "scrolled": false
   },
   "outputs": [
    {
     "name": "stdout",
     "output_type": "stream",
     "text": [
      "2018-03-07 19:46:46,473 INFO sqlalchemy.engine.base.Engine BEGIN (implicit)\n",
      "2018-03-07 19:46:46,475 INFO sqlalchemy.engine.base.Engine INSERT INTO roles (name) VALUES (?)\n",
      "2018-03-07 19:46:46,475 INFO sqlalchemy.engine.base.Engine ('r0',)\n",
      "2018-03-07 19:46:46,478 INFO sqlalchemy.engine.base.Engine INSERT INTO users (name, role_id) VALUES (?, ?)\n",
      "2018-03-07 19:46:46,479 INFO sqlalchemy.engine.base.Engine ('u0', 1)\n",
      "2018-03-07 19:46:46,480 INFO sqlalchemy.engine.base.Engine COMMIT\n",
      "====\n",
      "2018-03-07 19:46:46,482 INFO sqlalchemy.engine.base.Engine BEGIN (implicit)\n",
      "2018-03-07 19:46:46,482 INFO sqlalchemy.engine.base.Engine INSERT INTO roles (name) VALUES (?)\n",
      "2018-03-07 19:46:46,483 INFO sqlalchemy.engine.base.Engine ('r1',)\n",
      "2018-03-07 19:46:46,484 INFO sqlalchemy.engine.base.Engine INSERT INTO users (name, role_id) VALUES (?, ?)\n",
      "2018-03-07 19:46:46,485 INFO sqlalchemy.engine.base.Engine ('u1', 2)\n",
      "2018-03-07 19:46:46,487 INFO sqlalchemy.engine.base.Engine COMMIT\n",
      "====\n",
      "2018-03-07 19:46:46,489 INFO sqlalchemy.engine.base.Engine BEGIN (implicit)\n",
      "2018-03-07 19:46:46,490 INFO sqlalchemy.engine.base.Engine INSERT INTO roles (name) VALUES (?)\n",
      "2018-03-07 19:46:46,491 INFO sqlalchemy.engine.base.Engine ('r2',)\n",
      "2018-03-07 19:46:46,494 INFO sqlalchemy.engine.base.Engine INSERT INTO users (name, role_id) VALUES (?, ?)\n",
      "2018-03-07 19:46:46,495 INFO sqlalchemy.engine.base.Engine ('u2', 3)\n",
      "2018-03-07 19:46:46,497 INFO sqlalchemy.engine.base.Engine COMMIT\n",
      "====\n",
      "2018-03-07 19:46:46,498 INFO sqlalchemy.engine.base.Engine BEGIN (implicit)\n",
      "2018-03-07 19:46:46,499 INFO sqlalchemy.engine.base.Engine INSERT INTO roles (name) VALUES (?)\n",
      "2018-03-07 19:46:46,499 INFO sqlalchemy.engine.base.Engine ('r3',)\n",
      "2018-03-07 19:46:46,500 INFO sqlalchemy.engine.base.Engine INSERT INTO users (name, role_id) VALUES (?, ?)\n",
      "2018-03-07 19:46:46,501 INFO sqlalchemy.engine.base.Engine ('u3', 4)\n",
      "2018-03-07 19:46:46,503 INFO sqlalchemy.engine.base.Engine COMMIT\n",
      "====\n",
      "2018-03-07 19:46:46,505 INFO sqlalchemy.engine.base.Engine BEGIN (implicit)\n",
      "2018-03-07 19:46:46,506 INFO sqlalchemy.engine.base.Engine INSERT INTO roles (name) VALUES (?)\n",
      "2018-03-07 19:46:46,506 INFO sqlalchemy.engine.base.Engine ('r4',)\n",
      "2018-03-07 19:46:46,508 INFO sqlalchemy.engine.base.Engine INSERT INTO users (name, role_id) VALUES (?, ?)\n",
      "2018-03-07 19:46:46,510 INFO sqlalchemy.engine.base.Engine ('u4', 5)\n",
      "2018-03-07 19:46:46,512 INFO sqlalchemy.engine.base.Engine COMMIT\n",
      "====\n",
      "2018-03-07 19:46:46,513 INFO sqlalchemy.engine.base.Engine BEGIN (implicit)\n",
      "2018-03-07 19:46:46,515 INFO sqlalchemy.engine.base.Engine INSERT INTO roles (name) VALUES (?)\n",
      "2018-03-07 19:46:46,516 INFO sqlalchemy.engine.base.Engine ('r5',)\n",
      "2018-03-07 19:46:46,519 INFO sqlalchemy.engine.base.Engine INSERT INTO users (name, role_id) VALUES (?, ?)\n",
      "2018-03-07 19:46:46,520 INFO sqlalchemy.engine.base.Engine ('u5', 6)\n",
      "2018-03-07 19:46:46,521 INFO sqlalchemy.engine.base.Engine COMMIT\n",
      "====\n",
      "2018-03-07 19:46:46,522 INFO sqlalchemy.engine.base.Engine BEGIN (implicit)\n",
      "2018-03-07 19:46:46,523 INFO sqlalchemy.engine.base.Engine INSERT INTO roles (name) VALUES (?)\n",
      "2018-03-07 19:46:46,523 INFO sqlalchemy.engine.base.Engine ('r6',)\n",
      "2018-03-07 19:46:46,524 INFO sqlalchemy.engine.base.Engine INSERT INTO users (name, role_id) VALUES (?, ?)\n",
      "2018-03-07 19:46:46,526 INFO sqlalchemy.engine.base.Engine ('u6', 7)\n",
      "2018-03-07 19:46:46,527 INFO sqlalchemy.engine.base.Engine COMMIT\n",
      "====\n",
      "2018-03-07 19:46:46,529 INFO sqlalchemy.engine.base.Engine BEGIN (implicit)\n",
      "2018-03-07 19:46:46,530 INFO sqlalchemy.engine.base.Engine INSERT INTO roles (name) VALUES (?)\n",
      "2018-03-07 19:46:46,531 INFO sqlalchemy.engine.base.Engine ('r7',)\n",
      "2018-03-07 19:46:46,533 INFO sqlalchemy.engine.base.Engine INSERT INTO users (name, role_id) VALUES (?, ?)\n",
      "2018-03-07 19:46:46,533 INFO sqlalchemy.engine.base.Engine ('u7', 8)\n",
      "2018-03-07 19:46:46,534 INFO sqlalchemy.engine.base.Engine COMMIT\n",
      "====\n",
      "2018-03-07 19:46:46,536 INFO sqlalchemy.engine.base.Engine BEGIN (implicit)\n",
      "2018-03-07 19:46:46,536 INFO sqlalchemy.engine.base.Engine INSERT INTO roles (name) VALUES (?)\n",
      "2018-03-07 19:46:46,537 INFO sqlalchemy.engine.base.Engine ('r8',)\n",
      "2018-03-07 19:46:46,538 INFO sqlalchemy.engine.base.Engine INSERT INTO users (name, role_id) VALUES (?, ?)\n",
      "2018-03-07 19:46:46,539 INFO sqlalchemy.engine.base.Engine ('u8', 9)\n",
      "2018-03-07 19:46:46,540 INFO sqlalchemy.engine.base.Engine COMMIT\n",
      "====\n",
      "2018-03-07 19:46:46,541 INFO sqlalchemy.engine.base.Engine BEGIN (implicit)\n",
      "2018-03-07 19:46:46,543 INFO sqlalchemy.engine.base.Engine INSERT INTO roles (name) VALUES (?)\n",
      "2018-03-07 19:46:46,543 INFO sqlalchemy.engine.base.Engine ('r9',)\n",
      "2018-03-07 19:46:46,544 INFO sqlalchemy.engine.base.Engine INSERT INTO users (name, role_id) VALUES (?, ?)\n",
      "2018-03-07 19:46:46,546 INFO sqlalchemy.engine.base.Engine ('u9', 10)\n",
      "2018-03-07 19:46:46,546 INFO sqlalchemy.engine.base.Engine COMMIT\n",
      "====\n"
     ]
    }
   ],
   "source": [
    "for i in range(10):\n",
    "    user = User(name=f'u{i}')\n",
    "    role = Role(name=f'r{i}')\n",
    "    \n",
    "    s = Session()\n",
    "\n",
    "    s.add(role)\n",
    "    s.flush() \n",
    "\n",
    "    user.role_id = role.id\n",
    "\n",
    "    s.add(user)\n",
    "    s.commit()\n",
    "    print('====')"
   ]
  },
  {
   "cell_type": "code",
   "execution_count": 6,
   "metadata": {
    "scrolled": false
   },
   "outputs": [
    {
     "name": "stdout",
     "output_type": "stream",
     "text": [
      "2018-03-07 19:46:46,561 INFO sqlalchemy.engine.base.Engine BEGIN (implicit)\n",
      "2018-03-07 19:46:46,563 INFO sqlalchemy.engine.base.Engine SELECT users.id AS users_id, users.name AS users_name, users.role_id AS users_role_id \n",
      "FROM users\n",
      "2018-03-07 19:46:46,564 INFO sqlalchemy.engine.base.Engine ()\n",
      "[<User id: 1; name: u0; role_id: 1>, <User id: 2; name: u1; role_id: 2>, <User id: 3; name: u2; role_id: 3>, <User id: 4; name: u3; role_id: 4>, <User id: 5; name: u4; role_id: 5>, <User id: 6; name: u5; role_id: 6>, <User id: 7; name: u6; role_id: 7>, <User id: 8; name: u7; role_id: 8>, <User id: 9; name: u8; role_id: 9>, <User id: 10; name: u9; role_id: 10>]\n",
      "====\n",
      "2018-03-07 19:46:46,566 INFO sqlalchemy.engine.base.Engine SELECT roles.id AS roles_id, roles.name AS roles_name \n",
      "FROM roles \n",
      "WHERE roles.id = ?\n",
      "2018-03-07 19:46:46,567 INFO sqlalchemy.engine.base.Engine (1,)\n",
      "<Role id: 1; name: r0>\n",
      "====\n",
      "====\n",
      "2018-03-07 19:46:46,568 INFO sqlalchemy.engine.base.Engine SELECT roles.id AS roles_id, roles.name AS roles_name \n",
      "FROM roles \n",
      "WHERE roles.id = ?\n",
      "2018-03-07 19:46:46,569 INFO sqlalchemy.engine.base.Engine (2,)\n",
      "<Role id: 2; name: r1>\n",
      "====\n",
      "====\n",
      "2018-03-07 19:46:46,570 INFO sqlalchemy.engine.base.Engine SELECT roles.id AS roles_id, roles.name AS roles_name \n",
      "FROM roles \n",
      "WHERE roles.id = ?\n",
      "2018-03-07 19:46:46,571 INFO sqlalchemy.engine.base.Engine (3,)\n",
      "<Role id: 3; name: r2>\n",
      "====\n",
      "====\n",
      "2018-03-07 19:46:46,572 INFO sqlalchemy.engine.base.Engine SELECT roles.id AS roles_id, roles.name AS roles_name \n",
      "FROM roles \n",
      "WHERE roles.id = ?\n",
      "2018-03-07 19:46:46,572 INFO sqlalchemy.engine.base.Engine (4,)\n",
      "<Role id: 4; name: r3>\n",
      "====\n",
      "====\n",
      "2018-03-07 19:46:46,574 INFO sqlalchemy.engine.base.Engine SELECT roles.id AS roles_id, roles.name AS roles_name \n",
      "FROM roles \n",
      "WHERE roles.id = ?\n",
      "2018-03-07 19:46:46,575 INFO sqlalchemy.engine.base.Engine (5,)\n",
      "<Role id: 5; name: r4>\n",
      "====\n",
      "====\n",
      "2018-03-07 19:46:46,576 INFO sqlalchemy.engine.base.Engine SELECT roles.id AS roles_id, roles.name AS roles_name \n",
      "FROM roles \n",
      "WHERE roles.id = ?\n",
      "2018-03-07 19:46:46,577 INFO sqlalchemy.engine.base.Engine (6,)\n",
      "<Role id: 6; name: r5>\n",
      "====\n",
      "====\n",
      "2018-03-07 19:46:46,578 INFO sqlalchemy.engine.base.Engine SELECT roles.id AS roles_id, roles.name AS roles_name \n",
      "FROM roles \n",
      "WHERE roles.id = ?\n",
      "2018-03-07 19:46:46,580 INFO sqlalchemy.engine.base.Engine (7,)\n",
      "<Role id: 7; name: r6>\n",
      "====\n",
      "====\n",
      "2018-03-07 19:46:46,581 INFO sqlalchemy.engine.base.Engine SELECT roles.id AS roles_id, roles.name AS roles_name \n",
      "FROM roles \n",
      "WHERE roles.id = ?\n",
      "2018-03-07 19:46:46,581 INFO sqlalchemy.engine.base.Engine (8,)\n",
      "<Role id: 8; name: r7>\n",
      "====\n",
      "====\n",
      "2018-03-07 19:46:46,582 INFO sqlalchemy.engine.base.Engine SELECT roles.id AS roles_id, roles.name AS roles_name \n",
      "FROM roles \n",
      "WHERE roles.id = ?\n",
      "2018-03-07 19:46:46,583 INFO sqlalchemy.engine.base.Engine (9,)\n",
      "<Role id: 9; name: r8>\n",
      "====\n",
      "====\n",
      "2018-03-07 19:46:46,584 INFO sqlalchemy.engine.base.Engine SELECT roles.id AS roles_id, roles.name AS roles_name \n",
      "FROM roles \n",
      "WHERE roles.id = ?\n",
      "2018-03-07 19:46:46,585 INFO sqlalchemy.engine.base.Engine (10,)\n",
      "<Role id: 10; name: r9>\n",
      "====\n",
      "2018-03-07 19:46:46,586 INFO sqlalchemy.engine.base.Engine COMMIT\n"
     ]
    }
   ],
   "source": [
    "# BAD WAY: 11 SQL QUERYS IN ALL\n",
    "s = Session()\n",
    "users = s.query(User).all()\n",
    "print(users)\n",
    "for user in users:\n",
    "    print('====')\n",
    "    print(user.role)\n",
    "    print('====')\n",
    "s.commit()"
   ]
  },
  {
   "cell_type": "code",
   "execution_count": 7,
   "metadata": {
    "scrolled": false
   },
   "outputs": [
    {
     "name": "stdout",
     "output_type": "stream",
     "text": [
      "2018-03-07 19:46:46,601 INFO sqlalchemy.engine.base.Engine BEGIN (implicit)\n",
      "2018-03-07 19:46:46,602 INFO sqlalchemy.engine.base.Engine SELECT users.id AS users_id, users.name AS users_name, users.role_id AS users_role_id \n",
      "FROM users\n",
      "2018-03-07 19:46:46,603 INFO sqlalchemy.engine.base.Engine ()\n",
      "2018-03-07 19:46:46,605 INFO sqlalchemy.engine.base.Engine SELECT roles.id AS roles_id, roles.name AS roles_name, anon_1.users_role_id AS anon_1_users_role_id \n",
      "FROM (SELECT DISTINCT users.role_id AS users_role_id \n",
      "FROM users) AS anon_1 JOIN roles ON anon_1.users_role_id = roles.id ORDER BY anon_1.users_role_id\n",
      "2018-03-07 19:46:46,606 INFO sqlalchemy.engine.base.Engine ()\n",
      "====\n",
      "[<User id: 1; name: u0; role_id: 1>, <User id: 2; name: u1; role_id: 2>, <User id: 3; name: u2; role_id: 3>, <User id: 4; name: u3; role_id: 4>, <User id: 5; name: u4; role_id: 5>, <User id: 6; name: u5; role_id: 6>, <User id: 7; name: u6; role_id: 7>, <User id: 8; name: u7; role_id: 8>, <User id: 9; name: u8; role_id: 9>, <User id: 10; name: u9; role_id: 10>]\n",
      "<Role id: 1; name: r0>\n",
      "<Role id: 2; name: r1>\n",
      "<Role id: 3; name: r2>\n",
      "<Role id: 4; name: r3>\n",
      "<Role id: 5; name: r4>\n",
      "<Role id: 6; name: r5>\n",
      "<Role id: 7; name: r6>\n",
      "<Role id: 8; name: r7>\n",
      "<Role id: 9; name: r8>\n",
      "<Role id: 10; name: r9>\n",
      "2018-03-07 19:46:46,608 INFO sqlalchemy.engine.base.Engine COMMIT\n"
     ]
    }
   ],
   "source": [
    "# GOOD WAY: ONLY 2 SQL QUERYS\n",
    "from sqlalchemy.orm import subqueryload\n",
    "s = Session()\n",
    "\n",
    "users = s.query(User).options(subqueryload(User.role)).all()\n",
    "print('====')\n",
    "print(users)\n",
    "for user in users:\n",
    "    print(user.role)\n",
    "s.commit()"
   ]
  },
  {
   "cell_type": "code",
   "execution_count": null,
   "metadata": {},
   "outputs": [],
   "source": []
  }
 ],
 "metadata": {
  "kernelspec": {
   "display_name": "Python 3",
   "language": "python",
   "name": "python3"
  },
  "language_info": {
   "codemirror_mode": {
    "name": "ipython",
    "version": 3
   },
   "file_extension": ".py",
   "mimetype": "text/x-python",
   "name": "python",
   "nbconvert_exporter": "python",
   "pygments_lexer": "ipython3",
   "version": "3.6.4"
  }
 },
 "nbformat": 4,
 "nbformat_minor": 2
}
