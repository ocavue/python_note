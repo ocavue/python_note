{
 "cells": [
  {
   "cell_type": "code",
   "execution_count": 1,
   "metadata": {},
   "outputs": [
    {
     "data": {
      "text/plain": [
       "'1.2.4'"
      ]
     },
     "execution_count": 1,
     "metadata": {},
     "output_type": "execute_result"
    }
   ],
   "source": [
    "# http://docs.sqlalchemy.org/en/latest/orm/basic_relationships.html#association-object\n",
    "import sqlalchemy\n",
    "sqlalchemy.__version__ "
   ]
  },
  {
   "cell_type": "code",
   "execution_count": 2,
   "metadata": {},
   "outputs": [],
   "source": [
    "from sqlalchemy import create_engine\n",
    "engine = create_engine('sqlite:///:memory:', echo=True)\n",
    "\n",
    "from sqlalchemy.ext.declarative import declarative_base\n",
    "Base = declarative_base()\n",
    "\n",
    "from sqlalchemy.orm import sessionmaker\n",
    "Session = sessionmaker(bind=engine)"
   ]
  },
  {
   "cell_type": "code",
   "execution_count": 3,
   "metadata": {
    "scrolled": false
   },
   "outputs": [
    {
     "name": "stdout",
     "output_type": "stream",
     "text": [
      "2018-03-08 00:47:56,005 INFO sqlalchemy.engine.base.Engine SELECT CAST('test plain returns' AS VARCHAR(60)) AS anon_1\n",
      "2018-03-08 00:47:56,006 INFO sqlalchemy.engine.base.Engine ()\n",
      "2018-03-08 00:47:56,008 INFO sqlalchemy.engine.base.Engine SELECT CAST('test unicode returns' AS VARCHAR(60)) AS anon_1\n",
      "2018-03-08 00:47:56,008 INFO sqlalchemy.engine.base.Engine ()\n",
      "2018-03-08 00:47:56,009 INFO sqlalchemy.engine.base.Engine PRAGMA table_info(\"association\")\n",
      "2018-03-08 00:47:56,011 INFO sqlalchemy.engine.base.Engine ()\n",
      "2018-03-08 00:47:56,013 INFO sqlalchemy.engine.base.Engine PRAGMA table_info(\"left\")\n",
      "2018-03-08 00:47:56,014 INFO sqlalchemy.engine.base.Engine ()\n",
      "2018-03-08 00:47:56,015 INFO sqlalchemy.engine.base.Engine PRAGMA table_info(\"right\")\n",
      "2018-03-08 00:47:56,015 INFO sqlalchemy.engine.base.Engine ()\n",
      "2018-03-08 00:47:56,016 INFO sqlalchemy.engine.base.Engine \n",
      "CREATE TABLE \"left\" (\n",
      "\tid INTEGER NOT NULL, \n",
      "\tPRIMARY KEY (id)\n",
      ")\n",
      "\n",
      "\n",
      "2018-03-08 00:47:56,017 INFO sqlalchemy.engine.base.Engine ()\n",
      "2018-03-08 00:47:56,018 INFO sqlalchemy.engine.base.Engine COMMIT\n",
      "2018-03-08 00:47:56,020 INFO sqlalchemy.engine.base.Engine \n",
      "CREATE TABLE \"right\" (\n",
      "\tid INTEGER NOT NULL, \n",
      "\tPRIMARY KEY (id)\n",
      ")\n",
      "\n",
      "\n",
      "2018-03-08 00:47:56,020 INFO sqlalchemy.engine.base.Engine ()\n",
      "2018-03-08 00:47:56,021 INFO sqlalchemy.engine.base.Engine COMMIT\n",
      "2018-03-08 00:47:56,022 INFO sqlalchemy.engine.base.Engine \n",
      "CREATE TABLE association (\n",
      "\tleft_id INTEGER NOT NULL, \n",
      "\tright_id INTEGER NOT NULL, \n",
      "\textra_data VARCHAR(50), \n",
      "\tPRIMARY KEY (left_id, right_id), \n",
      "\tFOREIGN KEY(left_id) REFERENCES \"left\" (id), \n",
      "\tFOREIGN KEY(right_id) REFERENCES \"right\" (id)\n",
      ")\n",
      "\n",
      "\n",
      "2018-03-08 00:47:56,023 INFO sqlalchemy.engine.base.Engine ()\n",
      "2018-03-08 00:47:56,024 INFO sqlalchemy.engine.base.Engine COMMIT\n"
     ]
    }
   ],
   "source": [
    "from sqlalchemy import Column, Integer, String\n",
    "from sqlalchemy import Table, ForeignKey\n",
    "from sqlalchemy.orm import relationship\n",
    "\n",
    "class Association(Base):\n",
    "    __tablename__ = 'association'\n",
    "    left_id = Column(Integer, ForeignKey('left.id'), primary_key=True)\n",
    "    right_id = Column(Integer, ForeignKey('right.id'), primary_key=True)\n",
    "    extra_data = Column(String(50))\n",
    "    child = relationship(\"Child\", back_populates=\"parents\")\n",
    "    parent = relationship(\"Parent\", back_populates=\"children\")\n",
    "\n",
    "class Parent(Base):\n",
    "    __tablename__ = 'left'\n",
    "    id = Column(Integer, primary_key=True)\n",
    "    children = relationship(\"Association\", back_populates=\"parent\")\n",
    "\n",
    "class Child(Base):\n",
    "    __tablename__ = 'right'\n",
    "    id = Column(Integer, primary_key=True)\n",
    "    parents = relationship(\"Association\", back_populates=\"child\")\n",
    "    \n",
    "Base.metadata.create_all(engine)"
   ]
  },
  {
   "cell_type": "code",
   "execution_count": 4,
   "metadata": {},
   "outputs": [
    {
     "name": "stdout",
     "output_type": "stream",
     "text": [
      "2018-03-08 00:47:56,043 INFO sqlalchemy.engine.base.Engine BEGIN (implicit)\n",
      "2018-03-08 00:47:56,045 INFO sqlalchemy.engine.base.Engine INSERT INTO \"left\" (id) VALUES (?)\n",
      "2018-03-08 00:47:56,046 INFO sqlalchemy.engine.base.Engine (20,)\n",
      "2018-03-08 00:47:56,047 INFO sqlalchemy.engine.base.Engine INSERT INTO \"right\" (id) VALUES (?)\n",
      "2018-03-08 00:47:56,047 INFO sqlalchemy.engine.base.Engine (10,)\n",
      "2018-03-08 00:47:56,049 INFO sqlalchemy.engine.base.Engine INSERT INTO association (left_id, right_id, extra_data) VALUES (?, ?, ?)\n",
      "2018-03-08 00:47:56,050 INFO sqlalchemy.engine.base.Engine (20, 10, 'HELLO WORLD')\n",
      "2018-03-08 00:47:56,054 INFO sqlalchemy.engine.base.Engine COMMIT\n"
     ]
    }
   ],
   "source": [
    "s = Session()\n",
    "\n",
    "child = Child(id = 10)\n",
    "parent = Parent(id = 20)\n",
    "\n",
    "ass = Association(extra_data=\"HELLO WORLD\")  # (_*_) \n",
    "ass.child = child\n",
    "ass.parent = parent\n",
    "\n",
    "s.add(child)\n",
    "s.commit()  # this will commit all of child, parent and ass"
   ]
  },
  {
   "cell_type": "code",
   "execution_count": 5,
   "metadata": {},
   "outputs": [
    {
     "name": "stdout",
     "output_type": "stream",
     "text": [
      "2018-03-08 00:47:56,067 INFO sqlalchemy.engine.base.Engine BEGIN (implicit)\n",
      "2018-03-08 00:47:56,068 INFO sqlalchemy.engine.base.Engine SELECT \"left\".id AS left_id \n",
      "FROM \"left\"\n",
      " LIMIT ? OFFSET ?\n",
      "2018-03-08 00:47:56,069 INFO sqlalchemy.engine.base.Engine (1, 0)\n",
      "2018-03-08 00:47:56,070 INFO sqlalchemy.engine.base.Engine INSERT INTO \"right\" (id) VALUES (?)\n",
      "2018-03-08 00:47:56,071 INFO sqlalchemy.engine.base.Engine (0,)\n",
      "2018-03-08 00:47:56,072 INFO sqlalchemy.engine.base.Engine INSERT INTO association (left_id, right_id, extra_data) VALUES (?, ?, ?)\n",
      "2018-03-08 00:47:56,074 INFO sqlalchemy.engine.base.Engine (20, 0, 'HELLO WORLD')\n",
      "2018-03-08 00:47:56,075 INFO sqlalchemy.engine.base.Engine COMMIT\n",
      "2018-03-08 00:47:56,077 INFO sqlalchemy.engine.base.Engine BEGIN (implicit)\n",
      "2018-03-08 00:47:56,078 INFO sqlalchemy.engine.base.Engine SELECT \"left\".id AS left_id \n",
      "FROM \"left\"\n",
      " LIMIT ? OFFSET ?\n",
      "2018-03-08 00:47:56,078 INFO sqlalchemy.engine.base.Engine (1, 0)\n",
      "2018-03-08 00:47:56,080 INFO sqlalchemy.engine.base.Engine INSERT INTO \"right\" (id) VALUES (?)\n",
      "2018-03-08 00:47:56,082 INFO sqlalchemy.engine.base.Engine (1,)\n",
      "2018-03-08 00:47:56,084 INFO sqlalchemy.engine.base.Engine INSERT INTO association (left_id, right_id, extra_data) VALUES (?, ?, ?)\n",
      "2018-03-08 00:47:56,085 INFO sqlalchemy.engine.base.Engine (20, 1, 'HELLO WORLD')\n",
      "2018-03-08 00:47:56,087 INFO sqlalchemy.engine.base.Engine COMMIT\n",
      "2018-03-08 00:47:56,088 INFO sqlalchemy.engine.base.Engine BEGIN (implicit)\n",
      "2018-03-08 00:47:56,090 INFO sqlalchemy.engine.base.Engine SELECT \"left\".id AS left_id \n",
      "FROM \"left\"\n",
      " LIMIT ? OFFSET ?\n",
      "2018-03-08 00:47:56,091 INFO sqlalchemy.engine.base.Engine (1, 0)\n",
      "2018-03-08 00:47:56,093 INFO sqlalchemy.engine.base.Engine INSERT INTO \"right\" (id) VALUES (?)\n",
      "2018-03-08 00:47:56,093 INFO sqlalchemy.engine.base.Engine (2,)\n",
      "2018-03-08 00:47:56,095 INFO sqlalchemy.engine.base.Engine INSERT INTO association (left_id, right_id, extra_data) VALUES (?, ?, ?)\n",
      "2018-03-08 00:47:56,095 INFO sqlalchemy.engine.base.Engine (20, 2, 'HELLO WORLD')\n",
      "2018-03-08 00:47:56,096 INFO sqlalchemy.engine.base.Engine COMMIT\n",
      "2018-03-08 00:47:56,097 INFO sqlalchemy.engine.base.Engine BEGIN (implicit)\n",
      "2018-03-08 00:47:56,098 INFO sqlalchemy.engine.base.Engine SELECT \"left\".id AS left_id \n",
      "FROM \"left\"\n",
      " LIMIT ? OFFSET ?\n",
      "2018-03-08 00:47:56,098 INFO sqlalchemy.engine.base.Engine (1, 0)\n",
      "2018-03-08 00:47:56,100 INFO sqlalchemy.engine.base.Engine INSERT INTO \"right\" (id) VALUES (?)\n",
      "2018-03-08 00:47:56,103 INFO sqlalchemy.engine.base.Engine (3,)\n",
      "2018-03-08 00:47:56,104 INFO sqlalchemy.engine.base.Engine INSERT INTO association (left_id, right_id, extra_data) VALUES (?, ?, ?)\n",
      "2018-03-08 00:47:56,105 INFO sqlalchemy.engine.base.Engine (20, 3, 'HELLO WORLD')\n",
      "2018-03-08 00:47:56,106 INFO sqlalchemy.engine.base.Engine COMMIT\n",
      "2018-03-08 00:47:56,107 INFO sqlalchemy.engine.base.Engine BEGIN (implicit)\n",
      "2018-03-08 00:47:56,109 INFO sqlalchemy.engine.base.Engine SELECT \"left\".id AS left_id \n",
      "FROM \"left\"\n",
      " LIMIT ? OFFSET ?\n",
      "2018-03-08 00:47:56,110 INFO sqlalchemy.engine.base.Engine (1, 0)\n",
      "2018-03-08 00:47:56,112 INFO sqlalchemy.engine.base.Engine INSERT INTO \"right\" (id) VALUES (?)\n",
      "2018-03-08 00:47:56,113 INFO sqlalchemy.engine.base.Engine (4,)\n",
      "2018-03-08 00:47:56,115 INFO sqlalchemy.engine.base.Engine INSERT INTO association (left_id, right_id, extra_data) VALUES (?, ?, ?)\n",
      "2018-03-08 00:47:56,115 INFO sqlalchemy.engine.base.Engine (20, 4, 'HELLO WORLD')\n",
      "2018-03-08 00:47:56,117 INFO sqlalchemy.engine.base.Engine COMMIT\n"
     ]
    }
   ],
   "source": [
    "for i in range(5):\n",
    "    s = Session()\n",
    "    \n",
    "    child = Child(id = i)\n",
    "\n",
    "    ass = Association(extra_data=\"HELLO WORLD\")  # (_*_) \n",
    "    ass.child = child\n",
    "    ass.parent = s.query(Parent).first()\n",
    "\n",
    "    s.add(child)\n",
    "    s.commit()  # this will commit all of child, parent and ass\n",
    "    "
   ]
  },
  {
   "cell_type": "code",
   "execution_count": 6,
   "metadata": {},
   "outputs": [
    {
     "name": "stdout",
     "output_type": "stream",
     "text": [
      "2018-03-08 00:47:56,126 INFO sqlalchemy.engine.base.Engine BEGIN (implicit)\n",
      "2018-03-08 00:47:56,127 INFO sqlalchemy.engine.base.Engine SELECT association.left_id AS association_left_id, association.right_id AS association_right_id, association.extra_data AS association_extra_data \n",
      "FROM association\n",
      "2018-03-08 00:47:56,128 INFO sqlalchemy.engine.base.Engine ()\n",
      "['HELLO WORLD', 'HELLO WORLD', 'HELLO WORLD', 'HELLO WORLD', 'HELLO WORLD', 'HELLO WORLD']\n",
      "2018-03-08 00:47:56,130 INFO sqlalchemy.engine.base.Engine COMMIT\n"
     ]
    }
   ],
   "source": [
    "# test if extra_data has been insert well\n",
    "s = Session()\n",
    "asses = s.query(Association).all()\n",
    "print([i.extra_data for i in asses])  \n",
    "s.commit()"
   ]
  },
  {
   "cell_type": "code",
   "execution_count": 9,
   "metadata": {},
   "outputs": [
    {
     "name": "stdout",
     "output_type": "stream",
     "text": [
      "2018-03-08 00:48:47,421 INFO sqlalchemy.engine.base.Engine BEGIN (implicit)\n",
      "2018-03-08 00:48:47,422 INFO sqlalchemy.engine.base.Engine SELECT \"left\".id AS left_id \n",
      "FROM \"left\"\n",
      " LIMIT ? OFFSET ?\n",
      "2018-03-08 00:48:47,423 INFO sqlalchemy.engine.base.Engine (1, 0)\n",
      "===========\n",
      "2018-03-08 00:48:47,425 INFO sqlalchemy.engine.base.Engine SELECT association.left_id AS association_left_id, association.right_id AS association_right_id, association.extra_data AS association_extra_data \n",
      "FROM association \n",
      "WHERE ? = association.left_id\n",
      "2018-03-08 00:48:47,426 INFO sqlalchemy.engine.base.Engine (20,)\n",
      "====> [0, 1, 2, 3, 4, 10]\n",
      "====> [<__main__.Parent object at 0x112191048>, <__main__.Parent object at 0x112191048>, <__main__.Parent object at 0x112191048>, <__main__.Parent object at 0x112191048>, <__main__.Parent object at 0x112191048>, <__main__.Parent object at 0x112191048>]\n",
      "===========\n",
      "2018-03-08 00:48:47,427 INFO sqlalchemy.engine.base.Engine COMMIT\n"
     ]
    }
   ],
   "source": [
    "# test Parent.children \n",
    "s = Session()\n",
    "\n",
    "parent = s.query(Parent).first()\n",
    "\n",
    "print('===========')\n",
    "print('====>', [ass.right_id for ass in parent.children])\n",
    "print('====>', [ass.parent for ass in parent.children])\n",
    "print('===========')\n",
    "\n",
    "s.commit()"
   ]
  },
  {
   "cell_type": "code",
   "execution_count": null,
   "metadata": {},
   "outputs": [],
   "source": []
  }
 ],
 "metadata": {
  "kernelspec": {
   "display_name": "Python 3",
   "language": "python",
   "name": "python3"
  },
  "language_info": {
   "codemirror_mode": {
    "name": "ipython",
    "version": 3
   },
   "file_extension": ".py",
   "mimetype": "text/x-python",
   "name": "python",
   "nbconvert_exporter": "python",
   "pygments_lexer": "ipython3",
   "version": "3.6.4"
  }
 },
 "nbformat": 4,
 "nbformat_minor": 2
}
