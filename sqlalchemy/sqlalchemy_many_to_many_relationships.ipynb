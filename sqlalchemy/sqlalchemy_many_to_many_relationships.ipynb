{
 "cells": [
  {
   "cell_type": "code",
   "execution_count": 1,
   "metadata": {},
   "outputs": [
    {
     "data": {
      "text/plain": [
       "'1.2.4'"
      ]
     },
     "execution_count": 1,
     "metadata": {},
     "output_type": "execute_result"
    }
   ],
   "source": [
    "# http://docs.sqlalchemy.org/en/latest/orm/basic_relationships.html#many-to-many\n",
    "import sqlalchemy\n",
    "sqlalchemy.__version__ "
   ]
  },
  {
   "cell_type": "code",
   "execution_count": 2,
   "metadata": {},
   "outputs": [],
   "source": [
    "from sqlalchemy import create_engine\n",
    "engine = create_engine('sqlite:///:memory:', echo=True)\n",
    "\n",
    "from sqlalchemy.ext.declarative import declarative_base\n",
    "Base = declarative_base()\n",
    "\n",
    "from sqlalchemy.orm import sessionmaker\n",
    "Session = sessionmaker(bind=engine)"
   ]
  },
  {
   "cell_type": "code",
   "execution_count": 3,
   "metadata": {},
   "outputs": [
    {
     "name": "stdout",
     "output_type": "stream",
     "text": [
      "2018-03-08 00:17:39,166 INFO sqlalchemy.engine.base.Engine SELECT CAST('test plain returns' AS VARCHAR(60)) AS anon_1\n",
      "2018-03-08 00:17:39,168 INFO sqlalchemy.engine.base.Engine ()\n",
      "2018-03-08 00:17:39,169 INFO sqlalchemy.engine.base.Engine SELECT CAST('test unicode returns' AS VARCHAR(60)) AS anon_1\n",
      "2018-03-08 00:17:39,170 INFO sqlalchemy.engine.base.Engine ()\n",
      "2018-03-08 00:17:39,173 INFO sqlalchemy.engine.base.Engine PRAGMA table_info(\"association\")\n",
      "2018-03-08 00:17:39,173 INFO sqlalchemy.engine.base.Engine ()\n",
      "2018-03-08 00:17:39,175 INFO sqlalchemy.engine.base.Engine PRAGMA table_info(\"left\")\n",
      "2018-03-08 00:17:39,175 INFO sqlalchemy.engine.base.Engine ()\n",
      "2018-03-08 00:17:39,176 INFO sqlalchemy.engine.base.Engine PRAGMA table_info(\"right\")\n",
      "2018-03-08 00:17:39,177 INFO sqlalchemy.engine.base.Engine ()\n",
      "2018-03-08 00:17:39,180 INFO sqlalchemy.engine.base.Engine \n",
      "CREATE TABLE \"left\" (\n",
      "\tid INTEGER NOT NULL, \n",
      "\tPRIMARY KEY (id)\n",
      ")\n",
      "\n",
      "\n",
      "2018-03-08 00:17:39,181 INFO sqlalchemy.engine.base.Engine ()\n",
      "2018-03-08 00:17:39,182 INFO sqlalchemy.engine.base.Engine COMMIT\n",
      "2018-03-08 00:17:39,183 INFO sqlalchemy.engine.base.Engine \n",
      "CREATE TABLE \"right\" (\n",
      "\tid INTEGER NOT NULL, \n",
      "\tPRIMARY KEY (id)\n",
      ")\n",
      "\n",
      "\n",
      "2018-03-08 00:17:39,184 INFO sqlalchemy.engine.base.Engine ()\n",
      "2018-03-08 00:17:39,185 INFO sqlalchemy.engine.base.Engine COMMIT\n",
      "2018-03-08 00:17:39,186 INFO sqlalchemy.engine.base.Engine \n",
      "CREATE TABLE association (\n",
      "\tleft_id INTEGER, \n",
      "\tright_id INTEGER, \n",
      "\tFOREIGN KEY(left_id) REFERENCES \"left\" (id), \n",
      "\tFOREIGN KEY(right_id) REFERENCES \"right\" (id)\n",
      ")\n",
      "\n",
      "\n",
      "2018-03-08 00:17:39,188 INFO sqlalchemy.engine.base.Engine ()\n",
      "2018-03-08 00:17:39,189 INFO sqlalchemy.engine.base.Engine COMMIT\n"
     ]
    }
   ],
   "source": [
    "from sqlalchemy import Column, Integer, String\n",
    "from sqlalchemy import Table, ForeignKey\n",
    "from sqlalchemy.orm import relationship\n",
    "\n",
    "association_table = Table('association', Base.metadata,\n",
    "    Column('left_id', Integer, ForeignKey('left.id')),\n",
    "    Column('right_id', Integer, ForeignKey('right.id'))\n",
    ")\n",
    "\n",
    "class Parent(Base):\n",
    "    __tablename__ = 'left'\n",
    "    id = Column(Integer, primary_key=True)\n",
    "    children = relationship(\n",
    "        \"Child\",\n",
    "        secondary=association_table,\n",
    "        back_populates=\"parents\")\n",
    "\n",
    "class Child(Base):\n",
    "    __tablename__ = 'right'\n",
    "    id = Column(Integer, primary_key=True)\n",
    "    parents = relationship(\n",
    "        \"Parent\",\n",
    "        secondary=association_table,\n",
    "        back_populates=\"children\")\n",
    "    \n",
    "Base.metadata.create_all(engine)"
   ]
  },
  {
   "cell_type": "code",
   "execution_count": 4,
   "metadata": {},
   "outputs": [
    {
     "name": "stdout",
     "output_type": "stream",
     "text": [
      "2018-03-08 00:17:39,227 INFO sqlalchemy.engine.base.Engine BEGIN (implicit)\n",
      "2018-03-08 00:17:39,229 INFO sqlalchemy.engine.base.Engine INSERT INTO \"left\" DEFAULT VALUES\n",
      "2018-03-08 00:17:39,230 INFO sqlalchemy.engine.base.Engine ()\n",
      "2018-03-08 00:17:39,231 INFO sqlalchemy.engine.base.Engine INSERT INTO \"right\" DEFAULT VALUES\n",
      "2018-03-08 00:17:39,231 INFO sqlalchemy.engine.base.Engine ()\n",
      "2018-03-08 00:17:39,233 INFO sqlalchemy.engine.base.Engine COMMIT\n",
      "================================================================\n",
      "2018-03-08 00:17:39,235 INFO sqlalchemy.engine.base.Engine BEGIN (implicit)\n",
      "2018-03-08 00:17:39,236 INFO sqlalchemy.engine.base.Engine SELECT \"right\".id AS right_id \n",
      "FROM \"right\" ORDER BY \"right\".id DESC\n",
      " LIMIT ? OFFSET ?\n",
      "2018-03-08 00:17:39,237 INFO sqlalchemy.engine.base.Engine (1, 0)\n",
      "2018-03-08 00:17:39,240 INFO sqlalchemy.engine.base.Engine SELECT \"left\".id AS left_id \n",
      "FROM \"left\" ORDER BY \"left\".id DESC\n",
      " LIMIT ? OFFSET ?\n",
      "2018-03-08 00:17:39,241 INFO sqlalchemy.engine.base.Engine (1, 0)\n",
      "################################\n",
      "2018-03-08 00:17:39,243 INFO sqlalchemy.engine.base.Engine SELECT \"left\".id AS left_id \n",
      "FROM \"left\", association \n",
      "WHERE ? = association.right_id AND \"left\".id = association.left_id\n",
      "2018-03-08 00:17:39,244 INFO sqlalchemy.engine.base.Engine (1,)\n",
      "2018-03-08 00:17:39,247 INFO sqlalchemy.engine.base.Engine SELECT \"right\".id AS right_id \n",
      "FROM \"right\", association \n",
      "WHERE ? = association.left_id AND \"right\".id = association.right_id\n",
      "2018-03-08 00:17:39,248 INFO sqlalchemy.engine.base.Engine (1,)\n",
      "================================\n",
      "################################\n",
      "2018-03-08 00:17:39,250 INFO sqlalchemy.engine.base.Engine INSERT INTO association (left_id, right_id) VALUES (?, ?)\n",
      "2018-03-08 00:17:39,251 INFO sqlalchemy.engine.base.Engine (1, 1)\n",
      "2018-03-08 00:17:39,251 INFO sqlalchemy.engine.base.Engine COMMIT\n",
      "================================================================\n"
     ]
    }
   ],
   "source": [
    "s = Session()\n",
    "\n",
    "child = Child()\n",
    "parent = Parent()\n",
    "\n",
    "s.add(child)\n",
    "s.add(parent)\n",
    "\n",
    "s.commit()\n",
    "\n",
    "print('=' * 64)\n",
    "\n",
    "s = Session()\n",
    "\n",
    "child = s.query(Child).order_by(Child.id.desc()).first()  # find the last one\n",
    "parent = s.query(Parent).order_by(Parent.id.desc()).first()\n",
    "print('#' * 32)\n",
    " \n",
    "assert child.parents == []\n",
    "assert parent.children == []\n",
    "print('=' * 32)\n",
    "\n",
    "\n",
    "# print(child.parents.__dir__())\n",
    "child.parents.append(parent)\n",
    "print('#' * 32)\n",
    "\n",
    "s.commit()\n",
    "print('=' * 64)"
   ]
  },
  {
   "cell_type": "code",
   "execution_count": null,
   "metadata": {},
   "outputs": [],
   "source": []
  },
  {
   "cell_type": "code",
   "execution_count": null,
   "metadata": {},
   "outputs": [],
   "source": []
  },
  {
   "cell_type": "code",
   "execution_count": null,
   "metadata": {},
   "outputs": [],
   "source": []
  }
 ],
 "metadata": {
  "kernelspec": {
   "display_name": "Python 3",
   "language": "python",
   "name": "python3"
  },
  "language_info": {
   "codemirror_mode": {
    "name": "ipython",
    "version": 3
   },
   "file_extension": ".py",
   "mimetype": "text/x-python",
   "name": "python",
   "nbconvert_exporter": "python",
   "pygments_lexer": "ipython3",
   "version": "3.6.4"
  }
 },
 "nbformat": 4,
 "nbformat_minor": 2
}
