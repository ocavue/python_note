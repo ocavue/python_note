{
 "cells": [
  {
   "cell_type": "code",
   "execution_count": 1,
   "metadata": {},
   "outputs": [
    {
     "data": {
      "text/plain": [
       "'1.2.4'"
      ]
     },
     "execution_count": 1,
     "metadata": {},
     "output_type": "execute_result"
    }
   ],
   "source": [
    "# http://docs.sqlalchemy.org/en/latest/orm/basic_relationships.html#association-object\n",
    "import sqlalchemy\n",
    "sqlalchemy.__version__ "
   ]
  },
  {
   "cell_type": "code",
   "execution_count": 2,
   "metadata": {},
   "outputs": [],
   "source": [
    "from sqlalchemy import create_engine\n",
    "engine = create_engine('sqlite:///:memory:', echo=True)\n",
    "\n",
    "from sqlalchemy.ext.declarative import declarative_base\n",
    "Base = declarative_base()\n",
    "\n",
    "from sqlalchemy.orm import sessionmaker\n",
    "Session = sessionmaker(bind=engine)"
   ]
  },
  {
   "cell_type": "code",
   "execution_count": 3,
   "metadata": {
    "scrolled": false
   },
   "outputs": [
    {
     "name": "stdout",
     "output_type": "stream",
     "text": [
      "2018-03-09 10:25:58,733 INFO sqlalchemy.engine.base.Engine SELECT CAST('test plain returns' AS VARCHAR(60)) AS anon_1\n",
      "2018-03-09 10:25:58,734 INFO sqlalchemy.engine.base.Engine ()\n",
      "2018-03-09 10:25:58,735 INFO sqlalchemy.engine.base.Engine SELECT CAST('test unicode returns' AS VARCHAR(60)) AS anon_1\n",
      "2018-03-09 10:25:58,736 INFO sqlalchemy.engine.base.Engine ()\n",
      "2018-03-09 10:25:58,737 INFO sqlalchemy.engine.base.Engine PRAGMA table_info(\"association\")\n",
      "2018-03-09 10:25:58,738 INFO sqlalchemy.engine.base.Engine ()\n",
      "2018-03-09 10:25:58,739 INFO sqlalchemy.engine.base.Engine PRAGMA table_info(\"left\")\n",
      "2018-03-09 10:25:58,740 INFO sqlalchemy.engine.base.Engine ()\n",
      "2018-03-09 10:25:58,741 INFO sqlalchemy.engine.base.Engine PRAGMA table_info(\"right\")\n",
      "2018-03-09 10:25:58,741 INFO sqlalchemy.engine.base.Engine ()\n",
      "2018-03-09 10:25:58,743 INFO sqlalchemy.engine.base.Engine \n",
      "CREATE TABLE \"left\" (\n",
      "\tid INTEGER NOT NULL, \n",
      "\tPRIMARY KEY (id)\n",
      ")\n",
      "\n",
      "\n",
      "2018-03-09 10:25:58,743 INFO sqlalchemy.engine.base.Engine ()\n",
      "2018-03-09 10:25:58,744 INFO sqlalchemy.engine.base.Engine COMMIT\n",
      "2018-03-09 10:25:58,745 INFO sqlalchemy.engine.base.Engine \n",
      "CREATE TABLE \"right\" (\n",
      "\tid INTEGER NOT NULL, \n",
      "\tPRIMARY KEY (id)\n",
      ")\n",
      "\n",
      "\n",
      "2018-03-09 10:25:58,746 INFO sqlalchemy.engine.base.Engine ()\n",
      "2018-03-09 10:25:58,747 INFO sqlalchemy.engine.base.Engine COMMIT\n",
      "2018-03-09 10:25:58,748 INFO sqlalchemy.engine.base.Engine \n",
      "CREATE TABLE association (\n",
      "\tleft_id INTEGER NOT NULL, \n",
      "\tright_id INTEGER NOT NULL, \n",
      "\textra_data VARCHAR(50), \n",
      "\tPRIMARY KEY (left_id, right_id), \n",
      "\tFOREIGN KEY(left_id) REFERENCES \"left\" (id), \n",
      "\tFOREIGN KEY(right_id) REFERENCES \"right\" (id)\n",
      ")\n",
      "\n",
      "\n",
      "2018-03-09 10:25:58,748 INFO sqlalchemy.engine.base.Engine ()\n",
      "2018-03-09 10:25:58,749 INFO sqlalchemy.engine.base.Engine COMMIT\n"
     ]
    }
   ],
   "source": [
    "from sqlalchemy import Column, Integer, String\n",
    "from sqlalchemy import Table, ForeignKey\n",
    "from sqlalchemy.orm import relationship\n",
    "\n",
    "class Association(Base):\n",
    "    __tablename__ = 'association'\n",
    "    left_id = Column(Integer, ForeignKey('left.id'), primary_key=True)\n",
    "    right_id = Column(Integer, ForeignKey('right.id'), primary_key=True)\n",
    "    extra_data = Column(String(50))\n",
    "    child = relationship(\"Child\", back_populates=\"parents\")\n",
    "    parent = relationship(\"Parent\", back_populates=\"children\")\n",
    "\n",
    "class Parent(Base):\n",
    "    __tablename__ = 'left'\n",
    "    id = Column(Integer, primary_key=True)\n",
    "    children = relationship(\"Association\", back_populates=\"parent\")\n",
    "    \n",
    "    def __repr__(self):\n",
    "        return f'<Parent {self.id}>'\n",
    "\n",
    "class Child(Base):\n",
    "    __tablename__ = 'right'\n",
    "    id = Column(Integer, primary_key=True)\n",
    "    parents = relationship(\"Association\", back_populates=\"child\")\n",
    "    \n",
    "    def __repr__(self):\n",
    "        return f'<Child {self.id}>'\n",
    "    \n",
    "Base.metadata.create_all(engine)"
   ]
  },
  {
   "cell_type": "code",
   "execution_count": 4,
   "metadata": {
    "scrolled": false
   },
   "outputs": [
    {
     "name": "stdout",
     "output_type": "stream",
     "text": [
      "2018-03-09 10:25:58,780 INFO sqlalchemy.engine.base.Engine BEGIN (implicit)\n",
      "2018-03-09 10:25:58,781 INFO sqlalchemy.engine.base.Engine INSERT INTO \"right\" (id) VALUES (?)\n",
      "2018-03-09 10:25:58,782 INFO sqlalchemy.engine.base.Engine ((11,), (12,), (13,), (14,), (21,), (22,), (23,), (24,))\n",
      "2018-03-09 10:25:58,784 INFO sqlalchemy.engine.base.Engine INSERT INTO \"left\" (id) VALUES (?)\n",
      "2018-03-09 10:25:58,784 INFO sqlalchemy.engine.base.Engine ((10,), (20,))\n",
      "2018-03-09 10:25:58,787 INFO sqlalchemy.engine.base.Engine INSERT INTO association (left_id, right_id, extra_data) VALUES (?, ?, ?)\n",
      "2018-03-09 10:25:58,788 INFO sqlalchemy.engine.base.Engine ((10, 11, 'HELLO WORLD'), (10, 12, 'HELLO WORLD'), (10, 13, 'HELLO WORLD'), (10, 14, 'HELLO WORLD'), (20, 21, 'HELLO WORLD'), (20, 22, 'HELLO WORLD'), (20, 23, 'HELLO WORLD'), (20, 24, 'HELLO WORLD'))\n",
      "2018-03-09 10:25:58,791 INFO sqlalchemy.engine.base.Engine COMMIT\n"
     ]
    }
   ],
   "source": [
    "s = Session()\n",
    "\n",
    "for parent in [Parent(id = 10), Parent(id = 20)]:\n",
    "    children = [Child(id = parent.id + i) for i in range(1, 5)]\n",
    "    for child in children:\n",
    "        ass = Association(extra_data=\"HELLO WORLD\")  # (_*_) \n",
    "        ass.child = child\n",
    "        ass.parent = parent\n",
    "        s.add(ass)\n",
    "        s.add(child)\n",
    "        s.add(parent)\n",
    "        \n",
    "s.commit()"
   ]
  },
  {
   "cell_type": "code",
   "execution_count": 5,
   "metadata": {},
   "outputs": [
    {
     "name": "stdout",
     "output_type": "stream",
     "text": [
      "2018-03-09 10:25:58,800 INFO sqlalchemy.engine.base.Engine BEGIN (implicit)\n",
      "2018-03-09 10:25:58,801 INFO sqlalchemy.engine.base.Engine SELECT \"left\".id AS left_id \n",
      "FROM \"left\"\n",
      "2018-03-09 10:25:58,802 INFO sqlalchemy.engine.base.Engine ()\n",
      "2018-03-09 10:25:58,805 INFO sqlalchemy.engine.base.Engine SELECT association.left_id AS association_left_id, association.right_id AS association_right_id, association.extra_data AS association_extra_data \n",
      "FROM association \n",
      "WHERE ? = association.left_id\n",
      "2018-03-09 10:25:58,806 INFO sqlalchemy.engine.base.Engine (10,)\n",
      "2018-03-09 10:25:58,808 INFO sqlalchemy.engine.base.Engine SELECT \"right\".id AS right_id \n",
      "FROM \"right\" \n",
      "WHERE \"right\".id = ?\n",
      "2018-03-09 10:25:58,808 INFO sqlalchemy.engine.base.Engine (11,)\n",
      ">>>>>> <Child 11>\n",
      "2018-03-09 10:25:58,810 INFO sqlalchemy.engine.base.Engine SELECT \"right\".id AS right_id \n",
      "FROM \"right\" \n",
      "WHERE \"right\".id = ?\n",
      "2018-03-09 10:25:58,811 INFO sqlalchemy.engine.base.Engine (12,)\n",
      ">>>>>> <Child 12>\n",
      "2018-03-09 10:25:58,813 INFO sqlalchemy.engine.base.Engine SELECT \"right\".id AS right_id \n",
      "FROM \"right\" \n",
      "WHERE \"right\".id = ?\n",
      "2018-03-09 10:25:58,814 INFO sqlalchemy.engine.base.Engine (13,)\n",
      ">>>>>> <Child 13>\n",
      "2018-03-09 10:25:58,815 INFO sqlalchemy.engine.base.Engine SELECT \"right\".id AS right_id \n",
      "FROM \"right\" \n",
      "WHERE \"right\".id = ?\n",
      "2018-03-09 10:25:58,816 INFO sqlalchemy.engine.base.Engine (14,)\n",
      ">>>>>> <Child 14>\n",
      "2018-03-09 10:25:58,817 INFO sqlalchemy.engine.base.Engine SELECT association.left_id AS association_left_id, association.right_id AS association_right_id, association.extra_data AS association_extra_data \n",
      "FROM association \n",
      "WHERE ? = association.left_id\n",
      "2018-03-09 10:25:58,817 INFO sqlalchemy.engine.base.Engine (20,)\n",
      "2018-03-09 10:25:58,819 INFO sqlalchemy.engine.base.Engine SELECT \"right\".id AS right_id \n",
      "FROM \"right\" \n",
      "WHERE \"right\".id = ?\n",
      "2018-03-09 10:25:58,819 INFO sqlalchemy.engine.base.Engine (21,)\n",
      ">>>>>> <Child 21>\n",
      "2018-03-09 10:25:58,820 INFO sqlalchemy.engine.base.Engine SELECT \"right\".id AS right_id \n",
      "FROM \"right\" \n",
      "WHERE \"right\".id = ?\n",
      "2018-03-09 10:25:58,821 INFO sqlalchemy.engine.base.Engine (22,)\n",
      ">>>>>> <Child 22>\n",
      "2018-03-09 10:25:58,822 INFO sqlalchemy.engine.base.Engine SELECT \"right\".id AS right_id \n",
      "FROM \"right\" \n",
      "WHERE \"right\".id = ?\n",
      "2018-03-09 10:25:58,822 INFO sqlalchemy.engine.base.Engine (23,)\n",
      ">>>>>> <Child 23>\n",
      "2018-03-09 10:25:58,824 INFO sqlalchemy.engine.base.Engine SELECT \"right\".id AS right_id \n",
      "FROM \"right\" \n",
      "WHERE \"right\".id = ?\n",
      "2018-03-09 10:25:58,824 INFO sqlalchemy.engine.base.Engine (24,)\n",
      ">>>>>> <Child 24>\n",
      "2018-03-09 10:25:58,833 INFO sqlalchemy.engine.base.Engine COMMIT\n"
     ]
    }
   ],
   "source": [
    "# N+1 (11) sql queries\n",
    "s = Session()\n",
    "ps = s.query(Parent).all()\n",
    "for p in ps:\n",
    "    for ass in p.children:\n",
    "        print('>>>>>>', ass.child)\n",
    "s.commit()"
   ]
  },
  {
   "cell_type": "code",
   "execution_count": 12,
   "metadata": {},
   "outputs": [
    {
     "name": "stdout",
     "output_type": "stream",
     "text": [
      "2018-03-09 10:29:27,379 INFO sqlalchemy.engine.base.Engine BEGIN (implicit)\n",
      "2018-03-09 10:29:27,380 INFO sqlalchemy.engine.base.Engine SELECT \"left\".id AS left_id \n",
      "FROM \"left\", association \n",
      "WHERE association.extra_data != ?\n",
      "2018-03-09 10:29:27,381 INFO sqlalchemy.engine.base.Engine ('abcdef',)\n",
      "2018-03-09 10:29:27,385 INFO sqlalchemy.engine.base.Engine SELECT association.left_id AS association_left_id, association.right_id AS association_right_id, association.extra_data AS association_extra_data, anon_1.left_id AS anon_1_left_id \n",
      "FROM (SELECT \"left\".id AS left_id \n",
      "FROM \"left\", association \n",
      "WHERE association.extra_data != ?) AS anon_1 JOIN association ON anon_1.left_id = association.left_id ORDER BY anon_1.left_id\n",
      "2018-03-09 10:29:27,385 INFO sqlalchemy.engine.base.Engine ('abcdef',)\n",
      "2018-03-09 10:29:27,388 INFO sqlalchemy.engine.base.Engine SELECT \"right\".id AS right_id, association_1.right_id AS association_1_right_id \n",
      "FROM (SELECT \"left\".id AS left_id \n",
      "FROM \"left\", association \n",
      "WHERE association.extra_data != ?) AS anon_1 JOIN association AS association_1 ON anon_1.left_id = association_1.left_id JOIN \"right\" ON \"right\".id = association_1.right_id ORDER BY association_1.right_id\n",
      "2018-03-09 10:29:27,389 INFO sqlalchemy.engine.base.Engine ('abcdef',)\n",
      "======== <Parent 10>\n",
      "######## <Child 11>\n",
      "######## <Child 12>\n",
      "######## <Child 13>\n",
      "######## <Child 14>\n",
      "======== <Parent 20>\n",
      "######## <Child 21>\n",
      "######## <Child 22>\n",
      "######## <Child 23>\n",
      "######## <Child 24>\n",
      "2018-03-09 10:29:27,392 INFO sqlalchemy.engine.base.Engine COMMIT\n"
     ]
    }
   ],
   "source": [
    "s = Session()\n",
    "from sqlalchemy.orm import subqueryload, lazyload\n",
    "ps = s.query(Parent)\\\n",
    "      .options(subqueryload(Parent.children).subqueryload(Association.child)) \\\n",
    "      .filter(Association.extra_data != 'abcdef') \\\n",
    "      .all()\n",
    "for p in ps:\n",
    "    print('========', p)\n",
    "    for ass in p.children:\n",
    "        print('########', ass.child)\n",
    "s.commit()"
   ]
  },
  {
   "cell_type": "code",
   "execution_count": 7,
   "metadata": {},
   "outputs": [
    {
     "name": "stdout",
     "output_type": "stream",
     "text": [
      "2018-03-09 10:25:58,885 INFO sqlalchemy.engine.base.Engine BEGIN (implicit)\n",
      "2018-03-09 10:25:58,886 INFO sqlalchemy.engine.base.Engine SELECT \"left\".id AS left_id \n",
      "FROM \"left\"\n",
      "2018-03-09 10:25:58,887 INFO sqlalchemy.engine.base.Engine ()\n",
      "======== <Parent 10>\n",
      "2018-03-09 10:25:58,891 INFO sqlalchemy.engine.base.Engine SELECT association.left_id AS association_left_id, association.right_id AS association_right_id, association.extra_data AS association_extra_data \n",
      "FROM association \n",
      "WHERE ? = association.left_id\n",
      "2018-03-09 10:25:58,892 INFO sqlalchemy.engine.base.Engine (10,)\n",
      "2018-03-09 10:25:58,894 INFO sqlalchemy.engine.base.Engine SELECT \"right\".id AS right_id, anon_1.association_right_id AS anon_1_association_right_id \n",
      "FROM (SELECT DISTINCT association.right_id AS association_right_id \n",
      "FROM association \n",
      "WHERE ? = association.left_id) AS anon_1 JOIN \"right\" ON \"right\".id = anon_1.association_right_id ORDER BY anon_1.association_right_id\n",
      "2018-03-09 10:25:58,895 INFO sqlalchemy.engine.base.Engine (10,)\n",
      "######## <Child 11>\n",
      "######## <Child 12>\n",
      "######## <Child 13>\n",
      "######## <Child 14>\n",
      "======== <Parent 20>\n",
      "2018-03-09 10:25:58,898 INFO sqlalchemy.engine.base.Engine SELECT association.left_id AS association_left_id, association.right_id AS association_right_id, association.extra_data AS association_extra_data \n",
      "FROM association \n",
      "WHERE ? = association.left_id\n",
      "2018-03-09 10:25:58,898 INFO sqlalchemy.engine.base.Engine (20,)\n",
      "2018-03-09 10:25:58,899 INFO sqlalchemy.engine.base.Engine SELECT \"right\".id AS right_id, anon_1.association_right_id AS anon_1_association_right_id \n",
      "FROM (SELECT DISTINCT association.right_id AS association_right_id \n",
      "FROM association \n",
      "WHERE ? = association.left_id) AS anon_1 JOIN \"right\" ON \"right\".id = anon_1.association_right_id ORDER BY anon_1.association_right_id\n",
      "2018-03-09 10:25:58,900 INFO sqlalchemy.engine.base.Engine (20,)\n",
      "######## <Child 21>\n",
      "######## <Child 22>\n",
      "######## <Child 23>\n",
      "######## <Child 24>\n",
      "2018-03-09 10:25:58,902 INFO sqlalchemy.engine.base.Engine COMMIT\n"
     ]
    }
   ],
   "source": [
    "s = Session()\n",
    "from sqlalchemy.orm import subqueryload, lazyload\n",
    "ps = s.query(Parent).options(lazyload(Parent.children).subqueryload(Association.child)).all()\n",
    "for p in ps:\n",
    "    print('========', p)\n",
    "    for ass in p.children:\n",
    "        print('########', ass.child)\n",
    "s.commit()"
   ]
  },
  {
   "cell_type": "code",
   "execution_count": 8,
   "metadata": {},
   "outputs": [
    {
     "name": "stdout",
     "output_type": "stream",
     "text": [
      "2018-03-09 10:25:58,913 INFO sqlalchemy.engine.base.Engine BEGIN (implicit)\n",
      "2018-03-09 10:25:58,918 INFO sqlalchemy.engine.base.Engine SELECT \"left\".id AS left_id \n",
      "FROM \"left\"\n",
      "2018-03-09 10:25:58,919 INFO sqlalchemy.engine.base.Engine ()\n",
      "2018-03-09 10:25:58,922 INFO sqlalchemy.engine.base.Engine SELECT association.left_id AS association_left_id, association.right_id AS association_right_id, association.extra_data AS association_extra_data, anon_1.left_id AS anon_1_left_id \n",
      "FROM (SELECT \"left\".id AS left_id \n",
      "FROM \"left\") AS anon_1 JOIN association ON anon_1.left_id = association.left_id ORDER BY anon_1.left_id\n",
      "2018-03-09 10:25:58,923 INFO sqlalchemy.engine.base.Engine ()\n",
      "======== <Parent 10>\n",
      "2018-03-09 10:25:58,927 INFO sqlalchemy.engine.base.Engine SELECT \"right\".id AS right_id \n",
      "FROM \"right\" \n",
      "WHERE \"right\".id = ?\n",
      "2018-03-09 10:25:58,928 INFO sqlalchemy.engine.base.Engine (11,)\n",
      "######## <Child 11>\n",
      "2018-03-09 10:25:58,931 INFO sqlalchemy.engine.base.Engine SELECT \"right\".id AS right_id \n",
      "FROM \"right\" \n",
      "WHERE \"right\".id = ?\n",
      "2018-03-09 10:25:58,932 INFO sqlalchemy.engine.base.Engine (12,)\n",
      "######## <Child 12>\n",
      "2018-03-09 10:25:58,933 INFO sqlalchemy.engine.base.Engine SELECT \"right\".id AS right_id \n",
      "FROM \"right\" \n",
      "WHERE \"right\".id = ?\n",
      "2018-03-09 10:25:58,937 INFO sqlalchemy.engine.base.Engine (13,)\n",
      "######## <Child 13>\n",
      "2018-03-09 10:25:58,939 INFO sqlalchemy.engine.base.Engine SELECT \"right\".id AS right_id \n",
      "FROM \"right\" \n",
      "WHERE \"right\".id = ?\n",
      "2018-03-09 10:25:58,942 INFO sqlalchemy.engine.base.Engine (14,)\n",
      "######## <Child 14>\n",
      "======== <Parent 20>\n",
      "2018-03-09 10:25:58,943 INFO sqlalchemy.engine.base.Engine SELECT \"right\".id AS right_id \n",
      "FROM \"right\" \n",
      "WHERE \"right\".id = ?\n",
      "2018-03-09 10:25:58,944 INFO sqlalchemy.engine.base.Engine (21,)\n",
      "######## <Child 21>\n",
      "2018-03-09 10:25:58,947 INFO sqlalchemy.engine.base.Engine SELECT \"right\".id AS right_id \n",
      "FROM \"right\" \n",
      "WHERE \"right\".id = ?\n",
      "2018-03-09 10:25:58,948 INFO sqlalchemy.engine.base.Engine (22,)\n",
      "######## <Child 22>\n",
      "2018-03-09 10:25:58,950 INFO sqlalchemy.engine.base.Engine SELECT \"right\".id AS right_id \n",
      "FROM \"right\" \n",
      "WHERE \"right\".id = ?\n",
      "2018-03-09 10:25:58,951 INFO sqlalchemy.engine.base.Engine (23,)\n",
      "######## <Child 23>\n",
      "2018-03-09 10:25:58,953 INFO sqlalchemy.engine.base.Engine SELECT \"right\".id AS right_id \n",
      "FROM \"right\" \n",
      "WHERE \"right\".id = ?\n",
      "2018-03-09 10:25:58,953 INFO sqlalchemy.engine.base.Engine (24,)\n",
      "######## <Child 24>\n",
      "2018-03-09 10:25:58,954 INFO sqlalchemy.engine.base.Engine COMMIT\n"
     ]
    }
   ],
   "source": [
    "s = Session()\n",
    "from sqlalchemy.orm import subqueryload, lazyload\n",
    "ps = s.query(Parent).options(subqueryload(Parent.children).lazyload(Association.child)).all()\n",
    "for p in ps:\n",
    "    print('========', p)\n",
    "    for ass in p.children:\n",
    "        print('########', ass.child)\n",
    "s.commit()"
   ]
  },
  {
   "cell_type": "code",
   "execution_count": null,
   "metadata": {},
   "outputs": [],
   "source": []
  },
  {
   "cell_type": "code",
   "execution_count": null,
   "metadata": {},
   "outputs": [],
   "source": []
  },
  {
   "cell_type": "code",
   "execution_count": null,
   "metadata": {},
   "outputs": [],
   "source": []
  }
 ],
 "metadata": {
  "kernelspec": {
   "display_name": "Python 3",
   "language": "python",
   "name": "python3"
  },
  "language_info": {
   "codemirror_mode": {
    "name": "ipython",
    "version": 3
   },
   "file_extension": ".py",
   "mimetype": "text/x-python",
   "name": "python",
   "nbconvert_exporter": "python",
   "pygments_lexer": "ipython3",
   "version": "3.6.4"
  }
 },
 "nbformat": 4,
 "nbformat_minor": 2
}
