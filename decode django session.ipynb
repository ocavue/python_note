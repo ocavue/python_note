{
 "cells": [
  {
   "cell_type": "code",
   "execution_count": 1,
   "metadata": {},
   "outputs": [],
   "source": [
    "# session_data = session.session_data \n",
    "session_data = \"YTc3NGZkZjZlZmZkODViNDU0MGFjYTc4NTg1YjE0NWJhM2FhYjAzMTp7Il9hdXRoX3VzZXJfaGFzaCI6IjQ4NzQ5NmI1Y2E2Y2MzNjA1NjVjZDdiNDI2YWZhZWU5ZTk4ZjVkZDciLCJfYXV0aF91c2VyX2lkIjoxODI0LCJfYXV0aF91c2VyX2JhY2tlbmQiOiJkamFuZ28uY29udHJpYi5hdXRoLmJhY2tlbmRzLk1vZGVsQmFja2VuZCJ9\""
   ]
  },
  {
   "cell_type": "code",
   "execution_count": 2,
   "metadata": {},
   "outputs": [
    {
     "data": {
      "text/plain": [
       "'a774fdf6effd85b4540aca78585b145ba3aab031:{\"_auth_user_hash\":\"487496b5ca6cc360565cd7b426afaee9e98f5dd7\",\"_auth_user_id\":1824,\"_auth_user_backend\":\"django.contrib.auth.backends.ModelBackend\"}'"
      ]
     },
     "execution_count": 2,
     "metadata": {},
     "output_type": "execute_result"
    }
   ],
   "source": [
    "import base64\n",
    "session_data = base64.b64decode(session_data).decode(\"utf-8\")\n",
    "session_data"
   ]
  },
  {
   "cell_type": "code",
   "execution_count": 3,
   "metadata": {},
   "outputs": [
    {
     "data": {
      "text/plain": [
       "{'_auth_user_backend': 'django.contrib.auth.backends.ModelBackend',\n",
       " '_auth_user_hash': '487496b5ca6cc360565cd7b426afaee9e98f5dd7',\n",
       " '_auth_user_id': 1824}"
      ]
     },
     "execution_count": 3,
     "metadata": {},
     "output_type": "execute_result"
    }
   ],
   "source": [
    "import json\n",
    "\n",
    "session_data = session_data.split(':', 1)[1]\n",
    "# '{\"_auth_user_backend\":\"django.contrib.auth.backends.ModelBackend\",\"_auth_user_id\":1472,\"_auth_user_hash\":\"ad765d5425342cce917e6101f900acdb23e0f3d3\"}'\n",
    "\n",
    "session_data = json.loads(session_data)  # 这里正好可以用 json.loads 应该是个巧合吧\n",
    "session_data"
   ]
  },
  {
   "cell_type": "code",
   "execution_count": null,
   "metadata": {},
   "outputs": [],
   "source": []
  }
 ],
 "metadata": {
  "kernelspec": {
   "display_name": "Python 3",
   "language": "python",
   "name": "python3"
  },
  "language_info": {
   "codemirror_mode": {
    "name": "ipython",
    "version": 3
   },
   "file_extension": ".py",
   "mimetype": "text/x-python",
   "name": "python",
   "nbconvert_exporter": "python",
   "pygments_lexer": "ipython3",
   "version": "3.6.4"
  }
 },
 "nbformat": 4,
 "nbformat_minor": 2
}
