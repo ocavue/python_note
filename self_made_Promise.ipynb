{
 "cells": [
  {
   "cell_type": "code",
   "execution_count": 1,
   "metadata": {},
   "outputs": [],
   "source": [
    "# 造轮子: Promise\n",
    "\n",
    "class Promise:\n",
    "    def __init__(self, function):\n",
    "        self.status = 'pending'\n",
    "        #（1）对象的状态不受外界影响。Promise对象代表一个异步操作，\n",
    "        # 有三种状态：pending（进行中）、fulfilled（已成功）和 rejected（已失败\n",
    "\n",
    "        self.__resolve_func_args = []\n",
    "        self.__resolve_func_kwargs = {}\n",
    "        \n",
    "        self.__reject_func_args = []\n",
    "        self.__reject_func_kwargs = {}\n",
    "        \n",
    "        def __resolve(*args, **kwargs):\n",
    "            #print(f'__resolve get arguments: {args} {kwargs}')\n",
    "            #print(f'status: pending => fulfilled')\n",
    "            self.status = 'fulfilled'\n",
    "            \n",
    "            self.__resolve_func_args = args\n",
    "            self.__resolve_func_kwargs = kwargs\n",
    "            \n",
    "        def __reject(*args, **kwargs):\n",
    "            #print(f'__reject get arguments: {args} {kwargs}')\n",
    "            #print(f'status: pending => rejected')\n",
    "            self.status = 'rejected'\n",
    "            \n",
    "            self.__reject_func_args = args\n",
    "            self.__reject_func_kwargs = kwargs\n",
    "            \n",
    "        # execute funtion as soon as Promise is maded\n",
    "        function(__resolve, __reject)\n",
    "        \n",
    "    def then(self, resolve_func):\n",
    "        if self.status == 'fulfilled':\n",
    "            resolve_func(*self.__resolve_func_args, **self.__resolve_func_kwargs)\n",
    "        return self\n",
    "        \n",
    "    def catch(self, reject_func):\n",
    "        if self.status == 'rejected':\n",
    "            reject_func(*self.__reject_func_args, **self.__reject_func_kwargs)\n",
    "        return self\n",
    "\n",
    "        "
   ]
  },
  {
   "cell_type": "code",
   "execution_count": 2,
   "metadata": {},
   "outputs": [],
   "source": [
    "import time\n",
    "import random\n",
    "\n",
    "def my_func0(resolve_func, reject_func):\n",
    "    print('my function start')\n",
    "    time.sleep(1)\n",
    "    if random.random() > 0.5:\n",
    "        print('succeed')\n",
    "        resolve_func({\"data\": \"abcdefg\"})\n",
    "    else:\n",
    "        print('error')\n",
    "        reject_func(\"THIS IS ERROR MESSAGE\")\n",
    "    time.sleep(1)\n",
    "    print('my function done')"
   ]
  },
  {
   "cell_type": "code",
   "execution_count": 3,
   "metadata": {},
   "outputs": [],
   "source": [
    "# print(my_func(\n",
    "#     lambda data_dict: print('data:', data_dict['data']), \n",
    "#     lambda error_msg: print('error:', error_msg)\n",
    "# ))"
   ]
  },
  {
   "cell_type": "code",
   "execution_count": 4,
   "metadata": {},
   "outputs": [
    {
     "name": "stdout",
     "output_type": "stream",
     "text": [
      "my function start\n",
      "succeed\n",
      "my function done\n"
     ]
    }
   ],
   "source": [
    "promise = Promise(my_func0)"
   ]
  },
  {
   "cell_type": "code",
   "execution_count": 5,
   "metadata": {},
   "outputs": [
    {
     "name": "stdout",
     "output_type": "stream",
     "text": [
      "data: abcdefg\n"
     ]
    },
    {
     "data": {
      "text/plain": [
       "<__main__.Promise at 0x108d42358>"
      ]
     },
     "execution_count": 5,
     "metadata": {},
     "output_type": "execute_result"
    }
   ],
   "source": [
    "promise.then(\n",
    "    lambda data_dict: print('data:', data_dict['data'])\n",
    ").catch(\n",
    "    lambda error_msg: print('error:', error_msg)\n",
    ")"
   ]
  },
  {
   "cell_type": "code",
   "execution_count": 6,
   "metadata": {},
   "outputs": [
    {
     "name": "stdout",
     "output_type": "stream",
     "text": [
      "#### succeed failed\n",
      "#### failed failed\n",
      "#### failed succeed\n",
      "#### failed succeed\n",
      "#### succeed failed\n",
      "#### failed failed\n",
      "#### failed succeed\n",
      "#### failed failed\n",
      "#### failed failed\n",
      "#### succeed failed\n"
     ]
    }
   ],
   "source": [
    "def my_func1(resolve_func, reject_func):\n",
    "    if random.random() > 0.5:\n",
    "        resolve_func()\n",
    "    else:\n",
    "        reject_func()\n",
    "\n",
    "for i in range(10):\n",
    "    Promise(my_func1).then(\n",
    "        lambda: Promise(my_func1).then(\n",
    "            lambda: print('#### succeed succeed')\n",
    "        ).catch(\n",
    "            lambda: print('#### succeed failed')\n",
    "        )\n",
    "    ).catch(\n",
    "        lambda: Promise(my_func1).then(\n",
    "            lambda: print('#### failed succeed')\n",
    "        ).catch(\n",
    "            lambda: print('#### failed failed')\n",
    "        )\n",
    "    )"
   ]
  },
  {
   "cell_type": "code",
   "execution_count": null,
   "metadata": {},
   "outputs": [],
   "source": []
  }
 ],
 "metadata": {
  "kernelspec": {
   "display_name": "Python 3",
   "language": "python",
   "name": "python3"
  },
  "language_info": {
   "codemirror_mode": {
    "name": "ipython",
    "version": 3
   },
   "file_extension": ".py",
   "mimetype": "text/x-python",
   "name": "python",
   "nbconvert_exporter": "python",
   "pygments_lexer": "ipython3",
   "version": "3.6.4"
  }
 },
 "nbformat": 4,
 "nbformat_minor": 2
}
